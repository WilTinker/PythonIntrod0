{
 "cells": [
  {
   "cell_type": "markdown",
   "id": "4226638c",
   "metadata": {},
   "source": [
    "#### Test and improve the AI generated area and perimeter program, if needed"
   ]
  },
  {
   "cell_type": "code",
   "execution_count": 1,
   "id": "84376cfa",
   "metadata": {},
   "outputs": [
    {
     "name": "stdout",
     "output_type": "stream",
     "text": [
      "Enter the length of the rectangle: 5\n",
      "Enter the width of the rectangle: 5\n",
      "The area of the rectangle is: 25.0\n",
      "The perimeter of the rectangle is: 20.0\n"
     ]
    }
   ],
   "source": [
    "# This the area/perimeter code from ChatGPT\n",
    "\n",
    "def calculate_area(length, width):\n",
    "    return length * width\n",
    "\n",
    "\n",
    "def main():\n",
    "    # Get user input for length and width\n",
    "    length = float(input(\"Enter the length of the rectangle: \"))\n",
    "    width = float(input(\"Enter the width of the rectangle: \"))\n",
    "\n",
    "    # Calculate area and perimeter\n",
    "    area = calculate_area(length, width)\n",
    "    perimeter = calculate_perimeter(length, width)\n",
    "\n",
    "    # Display the results\n",
    "    print(f\"The area of the rectangle is: {area:.2f}\")\n",
    "    print(f\"The perimeter of the rectangle is: {perimeter:.2f}\")\n",
    "\n",
    "if __name__ == \"__main__\":\n",
    "    main()"
   ]
  },
  {
   "cell_type": "code",
   "execution_count": null,
   "id": "149cc66a",
   "metadata": {},
   "outputs": [],
   "source": []
  },
  {
   "cell_type": "markdown",
   "id": "4082dda1",
   "metadata": {},
   "source": [
    "#### Test and improve the AI generated runoff program, if needed"
   ]
  },
  {
   "cell_type": "code",
   "execution_count": null,
   "id": "e6386834",
   "metadata": {},
   "outputs": [],
   "source": [
    "# This is the first runoff program from ChatGPT\n",
    "\n",
    "def calculate_runoff(length, width, rain_inches):\n",
    "    # Conversion factor: 1 cubic foot of water = 7.48052 gallons\n",
    "    gallons_per_cubic_foot = 7.48052\n",
    "    \n",
    "    # Calculate the volume of water in cubic feet\n",
    "    volume_cubic_feet = length * width * rain_inches    \n",
    "    \n",
    "    # Convert cubic feet to gallons\n",
    "    runoff_gallons = volume_cubic_feet * gallons_per_cubic_foot\n",
    "    \n",
    "    return runoff_gallons\n",
    "\n",
    "# Get user input for length, width, and rain in inches\n",
    "length = float(input(\"Enter the length of the surface in feet: \"))\n",
    "width = float(input(\"Enter the width of the surface in feet: \"))\n",
    "rain_inches = float(input(\"Enter the number of inches of rain: \"))\n",
    "    \n",
    "# Calculate runoff in gallons\n",
    "runoff_gallons = calculate_runoff(length, width, rain_inches)\n",
    "    \n",
    "# Display the result\n",
    "print(f\"The number of gallons of water runoff is: {runoff_gallons:.2f} gallons\")\n",
    "\n",
    "if __name__== \"__main__\" :\n",
    "    main()\n"
   ]
  },
  {
   "cell_type": "code",
   "execution_count": null,
   "id": "27198f88",
   "metadata": {},
   "outputs": [],
   "source": [
    "def calculate_runoff(length, width, rain_inches):\n",
    "    # Conversion factor: 1 cubic foot of water = 7.48052 gallons\n",
    "    gallons_per_cubic_foot = 7.48052\n",
    "    \n",
    "    # Calculate the volume of water in cubic feet\n",
    "    volume_cubic_feet = length * width * rain_inches    \n",
    "    \n",
    "    # Convert cubic feet to gallons\n",
    "    runoff_gallons = volume_cubic_feet * gallons_per_cubic_foot\n",
    "    \n",
    "    return runoff_gallons\n",
    "\n",
    "# Get user input for length, width, and rain in inches\n",
    "length = float(input(\"Enter the length of the surface in feet: \"))\n",
    "width = float(input(\"Enter the width of the surface in feet: \"))\n",
    "rain_inches = float(input(\"Enter the number of inches of rain: \"))\n",
    "    \n",
    "# Calculate runoff in gallons\n",
    "runoff_gallons = calculate_runoff(length, width, rain_inches)\n",
    "    \n",
    "# Display the result\n",
    "print(f\"The number of gallons of water runoff is: {runoff_gallons:.2f} gallons\")"
   ]
  },
  {
   "cell_type": "markdown",
   "id": "d813a4ba",
   "metadata": {},
   "source": [
    "#### The following code is used in the module building exercise.  It is NOT run in Jupyter."
   ]
  },
  {
   "cell_type": "code",
   "execution_count": null,
   "id": "e714127e",
   "metadata": {},
   "outputs": [],
   "source": [
    "# Simple example of importing a program that you write\n",
    "# as a module and using a function from that program\n",
    "\n",
    "import fixed_GPT_code as GPT\n",
    "\n",
    "length = 50\n",
    "width = 20\n",
    "rain = 12\n",
    "\n",
    "gallons = GPT.calculate_runoff(length, width, rain)\n",
    "\n",
    "print(length, width, rain, \"=\", gallons)"
   ]
  },
  {
   "cell_type": "code",
   "execution_count": null,
   "id": "d35120d5",
   "metadata": {},
   "outputs": [],
   "source": []
  },
  {
   "cell_type": "raw",
   "id": "a2c45551",
   "metadata": {},
   "source": [
    "Write a program that checks for the correct pin number.\n",
    "\n",
    "You set the pin (e.g. 12345).  #create a variable, store a value in it.\n",
    "When a user types in the correct pin, display \"Correct, welcome back.\"\n",
    "When a user types an incorrect pin, display \"Incorrect, try again.\"\n",
    "When a user runs out of tries, display \"Sorry, you have been locked out.\"\n",
    "Each user has the maximum of 3 tries."
   ]
  },
  {
   "cell_type": "code",
   "execution_count": 12,
   "id": "27e3daac",
   "metadata": {},
   "outputs": [
    {
     "name": "stdout",
     "output_type": "stream",
     "text": [
      "Enter your five-digit PIN: 12345\n",
      "Correct, welcome back.\n"
     ]
    }
   ],
   "source": [
    "pin = 15243\n",
    "pinTry1 = int(input(\"Enter your five-digit PIN: \"))\n",
    "count = 0\n",
    "\n",
    "#pinTry3 = int(input(\"Pin entered does not match. Please try again: \"))\n",
    "\n",
    "if pinTry1 or pinTry2 == pin :\n",
    "    print(\"Correct, welcome back.\")\n",
    "else:\n",
    "    while pinTry1 != pin and count < 3:\n",
    "        pinTry2 = int(input(\"Pin entered does not match. Try again: \"))\n",
    "        count = count + 1\n",
    "      \n",
    "        break\n",
    "        print(\"Sorry, you have been locked out.\")\n",
    "    "
   ]
  },
  {
   "cell_type": "code",
   "execution_count": null,
   "id": "bb5de726",
   "metadata": {},
   "outputs": [],
   "source": [
    "pin = 15243\n",
    "count = 0\n",
    "\n",
    "while pinTry1 != pin and count < 3:\n",
    "    pinTry1 = int(input(\"Enter your five-digit PIN: \"))\n",
    "    if pinTry1 == pin :\n",
    "        print(\"Correct, welcome back.\")\n",
    "        break\n",
    "        pinTry2 = int(input(\"Pin entered does not match. Try again: \"))\n",
    "        count = count + 1\n",
    "\n",
    "else:\n",
    "    \n",
    "      \n",
    "        break\n",
    "        print(\"Sorry, you have been locked out.\")"
   ]
  }
 ],
 "metadata": {
  "kernelspec": {
   "display_name": "Python 3 (ipykernel)",
   "language": "python",
   "name": "python3"
  },
  "language_info": {
   "codemirror_mode": {
    "name": "ipython",
    "version": 3
   },
   "file_extension": ".py",
   "mimetype": "text/x-python",
   "name": "python",
   "nbconvert_exporter": "python",
   "pygments_lexer": "ipython3",
   "version": "3.10.9"
  }
 },
 "nbformat": 4,
 "nbformat_minor": 5
}
