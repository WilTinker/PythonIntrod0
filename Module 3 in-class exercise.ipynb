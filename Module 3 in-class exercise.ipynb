{
 "cells": [
  {
   "cell_type": "code",
   "execution_count": 16,
   "id": "1d1eb2a2",
   "metadata": {},
   "outputs": [
    {
     "name": "stdout",
     "output_type": "stream",
     "text": [
      "With a length of 20 and a width of 10\n",
      "the area of the rectangle is 200\n"
     ]
    }
   ],
   "source": [
    "length = 20\n",
    "width = 10\n",
    "area = length * width\n",
    "print(f\"With a length of {length} and a width of {width}\")\n",
    "print(f\"the area of the rectangle is {area}\")"
   ]
  },
  {
   "cell_type": "code",
   "execution_count": 15,
   "id": "0311b324",
   "metadata": {},
   "outputs": [
    {
     "name": "stdout",
     "output_type": "stream",
     "text": [
      "With a length of 20.4 and a width of 10.6\n",
      "the area of the rectangle is 216.24\n"
     ]
    }
   ],
   "source": [
    "length = 20.4\n",
    "width = 10.6\n",
    "area = length * width\n",
    "print(f\"With a length of {length} and a width of {width}\")\n",
    "print(f\"the area of the rectangle is {area:.2f}\")"
   ]
  },
  {
   "cell_type": "code",
   "execution_count": 13,
   "id": "329b5f9d",
   "metadata": {},
   "outputs": [
    {
     "name": "stdout",
     "output_type": "stream",
     "text": [
      "Length:\t20.4\n",
      "Width:\t10.6\n",
      "Area:\t216.24\n"
     ]
    }
   ],
   "source": [
    "length = 20.4\n",
    "width = 10.6\n",
    "area = length * width\n",
    "print(f\"Length:\\t{length}\\nWidth:\\t{width}\\nArea:\\t{area:.2f}\")"
   ]
  },
  {
   "cell_type": "code",
   "execution_count": 22,
   "id": "1515558f",
   "metadata": {},
   "outputs": [
    {
     "name": "stdout",
     "output_type": "stream",
     "text": [
      "One argument\n",
      "\n",
      "Argument 1 Argument 2\n",
      "\n",
      "Argument 1|Argument 2\n",
      "\n",
      "Argument 1 Argument 2???"
     ]
    }
   ],
   "source": [
    "print(\"One argument\")\n",
    "print()\n",
    "print(\"Argument 1\", \"Argument 2\")\n",
    "print()\n",
    "print(\"Argument 1\", \"Argument 2\", sep='|')\n",
    "print()\n",
    "print(\"Argument 1\", \"Argument 2\", end='???')"
   ]
  },
  {
   "cell_type": "code",
   "execution_count": 20,
   "id": "c2b71cb3",
   "metadata": {},
   "outputs": [
    {
     "name": "stdout",
     "output_type": "stream",
     "text": [
      "Argument 1*Argument 2!"
     ]
    }
   ],
   "source": [
    "print(\"Argument 1\", \"Argument 2\", sep='*', end='!')"
   ]
  },
  {
   "cell_type": "code",
   "execution_count": 21,
   "id": "2f1816fb",
   "metadata": {},
   "outputs": [
    {
     "name": "stdout",
     "output_type": "stream",
     "text": [
      "Argument 1&Argument 21"
     ]
    }
   ],
   "source": [
    "print(\"Argument 1\", \"Argument 2\", end='1', sep='&')"
   ]
  },
  {
   "cell_type": "code",
   "execution_count": 25,
   "id": "4e0c0519",
   "metadata": {},
   "outputs": [
    {
     "name": "stdout",
     "output_type": "stream",
     "text": [
      "What is today's temperature? 71\n",
      "False\n",
      "True\n"
     ]
    }
   ],
   "source": [
    "answer= int(input(\"What is today's temperature? \"))\n",
    "print(answer == \"71\")\n",
    "print(answer == 71)"
   ]
  },
  {
   "cell_type": "code",
   "execution_count": 31,
   "id": "0086b10c",
   "metadata": {},
   "outputs": [
    {
     "name": "stdout",
     "output_type": "stream",
     "text": [
      "Enter the length of the rectangle: 20.4\n",
      "Enter the width of the rectangle: 10.6\n",
      "A rectangle with a length of 20.4 and a width of 10.6 has an area of 216.24.\n"
     ]
    }
   ],
   "source": [
    "length = int(input(\"Enter the length of the rectangle: \"))\n",
    "width = int(input(\"Enter the width of the rectangle: \"))\n",
    "\n",
    "area = length * width\n",
    "\n",
    "print(f\"A rectangle with a length of {length}\", end=\" \")\n",
    "print(f\"and a width of {width} has an area of {area}.\")\n",
    "\n"
   ]
  },
  {
   "cell_type": "code",
   "execution_count": 32,
   "id": "0435b5f8",
   "metadata": {},
   "outputs": [
    {
     "name": "stdout",
     "output_type": "stream",
     "text": [
      "Enter the length of the rectangle: 20.4\n",
      "Enter the width of the rectangle: 10.6\n",
      "A rectangle with a length of 20.4 and a width of 10.6 has an area of 216.24.\n"
     ]
    }
   ],
   "source": [
    "length = float(input(\"Enter the length of the rectangle: \"))\n",
    "width = float(input(\"Enter the width of the rectangle: \"))\n",
    "\n",
    "area = round(length * width, 2)\n",
    "\n",
    "print(f\"A rectangle with a length of {length}\", end=\" \")\n",
    "print(f\"and a width of {width} has an area of {area}.\")"
   ]
  },
  {
   "cell_type": "code",
   "execution_count": null,
   "id": "6d3b6568",
   "metadata": {},
   "outputs": [],
   "source": []
  }
 ],
 "metadata": {
  "kernelspec": {
   "display_name": "Python 3 (ipykernel)",
   "language": "python",
   "name": "python3"
  },
  "language_info": {
   "codemirror_mode": {
    "name": "ipython",
    "version": 3
   },
   "file_extension": ".py",
   "mimetype": "text/x-python",
   "name": "python",
   "nbconvert_exporter": "python",
   "pygments_lexer": "ipython3",
   "version": "3.10.9"
  }
 },
 "nbformat": 4,
 "nbformat_minor": 5
}
