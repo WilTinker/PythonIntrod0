{
 "cells": [
  {
   "cell_type": "markdown",
   "id": "cc9ab1e6",
   "metadata": {},
   "source": [
    "### if/elif/else Example"
   ]
  },
  {
   "cell_type": "code",
   "execution_count": null,
   "id": "bef0a7b1",
   "metadata": {},
   "outputs": [],
   "source": [
    "# Get 2 numbers from the user\n",
    "num1 = float(input(\"Enter the first number: \"))\n",
    "num2 = float(input(\"Enter the second number: \"))\n",
    "# Find the larger number\n",
    "if (num1 > num2) :\n",
    "    print(\"The first number you entered is the larger number.\")\n",
    "elif (num2 > num1) :\n",
    "    print(\"The second number you entered is the larger number.\")\n",
    "else :\n",
    "    print(f\"{num1} and {num2} are the same number!\")\n",
    "print(\"Goodbye!\")"
   ]
  },
  {
   "cell_type": "markdown",
   "id": "c33774e9",
   "metadata": {},
   "source": [
    "### Tax Code Example "
   ]
  },
  {
   "cell_type": "raw",
   "id": "75c8d078",
   "metadata": {},
   "source": [
    "BEGIN\n",
    "   Get customer_name\n",
    "   Get purchase_amount\n",
    "   Get tax_code\n",
    "   IF tax_code is 0\n",
    "      set tax_rate = 0%\n",
    "   ELSE IF tax_code is 1\n",
    "      set tax_rate = 3%\n",
    "   ELSE IF tax_code is 2\n",
    "      set tax_rate = 5%\n",
    "   ELSE\n",
    "      set tax_rate = 7%\n",
    "   ENDIF\n",
    "   sales_tax = purchased_amount * tax_rate\n",
    "   total = purchased_amount + sales tax\n",
    "   print the customer_name, purchase_amount, sales_tax and total\n",
    "END"
   ]
  },
  {
   "cell_type": "code",
   "execution_count": null,
   "id": "4a04c813",
   "metadata": {},
   "outputs": [],
   "source": [
    "def get_sales_tax(amount) :\n",
    "    tax_code = input(\"Please enter the tax code, 0, 1, 2 or none: \")\n",
    "    if tax_code == \"0\" :\n",
    "        tax_rate = 0.0\n",
    "    elif tax_code == \"1\" :\n",
    "        tax_rate = 0.03\n",
    "    elif tax_code == \"2\" :\n",
    "        tax_rate = 0.05\n",
    "    else :\n",
    "        tax_rate = 0.07\n",
    "    sales_tax = amount * tax_rate  \n",
    "    return sales_tax\n",
    "\n",
    "customer_name = input(\"Please enter the customer's name: \")\n",
    "purchase_amount = float(input(\"Enter the purchase amount: \"))\n",
    "sales_tax = get_sales_tax(purchase_amount)\n",
    "total = purchase_amount + sales_tax\n",
    "print(f\"Customer:\\t{customer_name}\\nPurchase:\\t${purchase_amount:.2f}\")\n",
    "print(f\"Sales Tax:\\t${sales_tax:.2f}\\nTotal:\\t\\t${total:.2f}\")"
   ]
  },
  {
   "cell_type": "markdown",
   "id": "fecc1127",
   "metadata": {},
   "source": [
    "### Hurricane category examples"
   ]
  },
  {
   "cell_type": "code",
   "execution_count": null,
   "id": "93b995ff",
   "metadata": {},
   "outputs": [],
   "source": [
    "# Hurricane category program, sequential code approach\n",
    "speed = input(\"What is the wind's speed? \")\n",
    "speed = int(speed)\n",
    "if speed > 155 :\n",
    "    print(f\"Wind speed of {speed} is Category 5 Hurricane\")\n",
    "elif speed >= 131 :    \n",
    "    print(f\"Wind speed of {speed} is Category 4 Hurricane\")\n",
    "elif speed >= 111 :    \n",
    "    print(f\"Wind speed of {speed} is Category 3 Hurricane\")\n",
    "elif speed >= 96 :    \n",
    "    print(f\"Wind speed of {speed} is Category 2 Hurricane\")\n",
    "elif speed >= 74 :    \n",
    "    print(f\"Wind speed of {speed} is Category 1 Hurricane\")\n",
    "else :    \n",
    "    print(f\"Wind speed of {speed} is not a hurricane\")"
   ]
  },
  {
   "cell_type": "code",
   "execution_count": null,
   "id": "a01cc18e",
   "metadata": {},
   "outputs": [],
   "source": [
    "# The program using a function to print the category\n",
    "def check_hurricane_category(windspeed) :\n",
    "    if windspeed > 155 :\n",
    "        print(f\"Wind speed of {windspeed} is Category 5 Hurricane\")\n",
    "    elif windspeed >= 131 :    \n",
    "        print(f\"Wind speed of {windspeed} is Category 4 Hurricane\")\n",
    "    elif windspeed >= 111 :    \n",
    "        print(f\"Wind speed of {windspeed} is Category 3 Hurricane\")\n",
    "    elif windspeed >= 96 :    \n",
    "        print(f\"Wind speed of {windspeed} is Category 2 Hurricane\")\n",
    "    elif windspeed >= 74 :    \n",
    "        print(f\"Wind speed of {windspeed} is Category 1 Hurricane\")\n",
    "    else :    \n",
    "        print(f\"Wind speed of {windspeed} is not a hurricane\")\n",
    "        \n",
    "\n",
    "speed = int(input(\"What is the wind's speed? \"))\n",
    "check_hurricane_category(speed)"
   ]
  },
  {
   "cell_type": "code",
   "execution_count": null,
   "id": "d23bdaea",
   "metadata": {},
   "outputs": [],
   "source": [
    "# The hurricane program using a function that returns the category\n",
    "def get_hurricane_category(windspeed) :\n",
    "    if windspeed > 155 :\n",
    "        category = 5\n",
    "    elif windspeed >= 131 :\n",
    "        category = 4\n",
    "    elif windspeed >= 111 : \n",
    "        category = 3\n",
    "    elif windspeed >= 96 :    \n",
    "        category = 2\n",
    "    elif windspeed >= 74 :\n",
    "        category = 1\n",
    "    else : \n",
    "        category = 0\n",
    "    return category\n",
    "        \n",
    "speed = int(input(\"What is the wind's speed? \"))\n",
    "category = get_hurricane_category(speed)\n",
    "if category == 0 :\n",
    "    print(f\"A wind speed of {speed} is not a hurricane\")\n",
    "else :\n",
    "    print(\"A wind speed of\", speed, \"is a Category\", category, \"hurricane.\")"
   ]
  },
  {
   "cell_type": "markdown",
   "id": "33043f91",
   "metadata": {},
   "source": [
    "### Adding a while Loop"
   ]
  },
  {
   "cell_type": "code",
   "execution_count": null,
   "id": "78f01883",
   "metadata": {},
   "outputs": [],
   "source": [
    "def get_sales_tax(amount) :\n",
    "    tax_code = input(\"Please enter the tax code, 0, 1, 2 or none: \")\n",
    "    if tax_code == \"0\" :\n",
    "        tax_rate = 0.0\n",
    "    elif tax_code == \"1\" :\n",
    "        tax_rate = 0.03\n",
    "    elif tax_code == \"2\" :\n",
    "        tax_rate = 0.05\n",
    "    else :\n",
    "        tax_rate = 0.07\n",
    "    sales_tax = amount * tax_rate  \n",
    "    return sales_tax\n",
    "\n",
    "again = \"y\"\n",
    "while again == \"y\" :\n",
    "    customer_name = input(\"Please enter the customer's name: \")\n",
    "    purchase_amount = float(input(\"Enter the purchase amount: \"))\n",
    "    sales_tax = get_sales_tax(purchase_amount)\n",
    "    total = purchase_amount + sales_tax\n",
    "    print(f\"Customer:\\t{customer_name}\\nPurchase:\\t${purchase_amount:.2f}\")\n",
    "    print(f\"Sales Tax:\\t${sales_tax:.2f}\\nTotal:\\t\\t${total:.2f}\")\n",
    "    print()\n",
    "    again = input(\"Would you like to process another customer record? y or n \")\n",
    "print(\"Good Bye\")"
   ]
  },
  {
   "cell_type": "code",
   "execution_count": null,
   "id": "d8299603",
   "metadata": {},
   "outputs": [],
   "source": [
    "# This shows an example of the continue command\n",
    "\n",
    "def get_sales_tax(amount) :\n",
    "    tax_code = input(\"Please enter the tax code, 0, 1, 2 or none: \")\n",
    "    if tax_code == \"0\" :\n",
    "        tax_rate = 0.0\n",
    "    elif tax_code == \"1\" :\n",
    "        tax_rate = 0.03\n",
    "    elif tax_code == \"2\" :\n",
    "        tax_rate = 0.05\n",
    "    else :\n",
    "        tax_rate = 0.07\n",
    "    sales_tax = amount * tax_rate  \n",
    "    return sales_tax\n",
    "\n",
    "again = \"y\"\n",
    "while again == \"y\" :\n",
    "    customer_name = input(\"Please enter the customer's name: \")\n",
    "    purchase_amount = float(input(\"Enter the purchase amount: \"))\n",
    "    if (purchase_amount < 0) :\n",
    "        print(\"Incorrect purchase amount. Try again.\")\n",
    "        continue\n",
    "    # A better way?\n",
    "    #while (purchase_amount < 0) :\n",
    "        #print(\"You must enter a positive purchase amount.\")\n",
    "        #purchase_amount = float(input(\"Enter the purchase amount: \"))\n",
    "    sales_tax = get_sales_tax(purchase_amount)\n",
    "    total = purchase_amount + sales_tax\n",
    "    print(f\"Customer:\\t{customer_name}\\nPurchase:\\t${purchase_amount:.2f}\")\n",
    "    print(f\"Sales Tax:\\t${sales_tax:.2f}\\nTotal:\\t\\t${total:.2f}\")\n",
    "    print()\n",
    "    again = input(\"Would you like to process another customer record? y or n \")\n",
    "print(\"Good Bye\")"
   ]
  },
  {
   "cell_type": "markdown",
   "id": "c89ecacf",
   "metadata": {},
   "source": [
    "### An Example of the break Command"
   ]
  },
  {
   "cell_type": "code",
   "execution_count": null,
   "id": "1a1225a8",
   "metadata": {},
   "outputs": [],
   "source": [
    "total = 0\n",
    "for i in range(10) :\n",
    "    score_number = i + 1\n",
    "    print(f\"Enter score number {score_number} or q to quit: \", end=\"->\")\n",
    "    score = input()\n",
    "    if score == \"q\" :\n",
    "        score_number = i\n",
    "        break\n",
    "    score = int(score)\n",
    "    total = total + score\n",
    "avg = total / score_number\n",
    "\n",
    "print(f\"The average score is {avg:.2f}.\")"
   ]
  },
  {
   "cell_type": "code",
   "execution_count": null,
   "id": "7cb55a47",
   "metadata": {},
   "outputs": [],
   "source": [
    "# A much better way\n",
    "\n",
    "total = 0\n",
    "number = int(input(\"How many score do you want to enter? \"))\n",
    "for i in range(number) :\n",
    "    score_number = i + 1\n",
    "    score = int(input(f\"Enter score number {score_number} : \"))\n",
    "    total = total + score\n",
    "avg = total / number\n",
    "print(f\"The average score is {avg:.2f}.\")"
   ]
  },
  {
   "cell_type": "code",
   "execution_count": null,
   "id": "f8b6242e",
   "metadata": {},
   "outputs": [],
   "source": []
  }
 ],
 "metadata": {
  "kernelspec": {
   "display_name": "Python 3 (ipykernel)",
   "language": "python",
   "name": "python3"
  },
  "language_info": {
   "codemirror_mode": {
    "name": "ipython",
    "version": 3
   },
   "file_extension": ".py",
   "mimetype": "text/x-python",
   "name": "python",
   "nbconvert_exporter": "python",
   "pygments_lexer": "ipython3",
   "version": "3.9.12"
  }
 },
 "nbformat": 4,
 "nbformat_minor": 5
}
