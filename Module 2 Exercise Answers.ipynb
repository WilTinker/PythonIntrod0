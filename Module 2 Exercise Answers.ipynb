{
 "cells": [
  {
   "cell_type": "markdown",
   "metadata": {},
   "source": [
    "## Exercises\n",
    "### Write the pseudocode for these problems. \n",
    "\n",
    "#### Define the problem by constructing an IPO diagram showing input, output, and processing steps\n",
    "Ask yourself\n",
    "- What control structures (sequence, selection and repetition) are required?\n",
    "- What variables are required?\n",
    "\n",
    "\n",
    "    "
   ]
  },
  {
   "cell_type": "markdown",
   "metadata": {},
   "source": [
    "#### 1. Find the average score\n",
    "This program prompts the user for ten exam scores, calculates the average score and displays the average to the user. The average score is calculated as the sum of the scores divided by the number of scores. This is the easiest problem in this exercise because you did something similar to this during classwork"
   ]
  },
  {
   "cell_type": "raw",
   "metadata": {},
   "source": [
    "Input: 10 test scores\n",
    "Output: Average test score\n",
    "Process:\n",
    "  formula: average = total_of_all_scores / 10\n",
    "  \n",
    "BEGIN\n",
    "  Set total_score = 0\n",
    "  LOOP 10 times\n",
    "    Prompt user for a test_score\n",
    "    Add test_score to total_score\n",
    "  ENDLOOP\n",
    "  Set average_score to total_score divided by 10\n",
    "  Display average_score to user\n",
    "END"
   ]
  },
  {
   "cell_type": "markdown",
   "metadata": {},
   "source": [
    "#### 2. How much water runs off a roof in a rain storm?\n",
    "To calculate the runoff from any given rainfall: \n",
    "- Get the length and width of the roof and convert the dimensions to inches. Get the number of inches of rainfall.\n",
    "- Multiply the roof dimensions in inches by the number of inches of rainfall to calculate the cubic inches of water that will run off the roof.\n",
    "- Divide the number of cubic inches of water by 231 to get the number of gallons that will runoff.\n",
    "- Display the result."
   ]
  },
  {
   "cell_type": "raw",
   "metadata": {},
   "source": [
    "Input: width of a roof in feet, length of a roof in feet, & rainfall in inches\n",
    "Output: amount of runoff rain (on a roof) in gallons\n",
    "Process:\n",
    "  formula: gallons = (((width x length) x 12) x rain ) / 231\n",
    "  \n",
    "BEGIN\n",
    "  Get width in feet from the user\n",
    "  Get length in feet from the user\n",
    "  Get rain in inches from the user\n",
    "\n",
    "  Convert length to inches by multipying length by 12\n",
    "  Convert width to inches by multipying width by 12\n",
    "\n",
    "  Set cubic_inches to length in inches times width in inches times rain\n",
    "  Set gallons to cubic_inches divided by 231\n",
    "  Display gallons\n",
    "END"
   ]
  },
  {
   "cell_type": "markdown",
   "metadata": {},
   "source": [
    "#### 3. Process customer record\n",
    "This program gets the customer name, purchase amount and tax code. The tax code must be one of the following numeric codes:\n",
    "- 0 tax exempt (0%)\n",
    "- 1 state sales tax only (3%)\n",
    "- 2 federal and state sales tax (5%)\n",
    "- 3 special sales tax (7%) \n",
    "\n",
    "Select the sales tax percentage based on the tax code the user entered. Compute the sales tax amount using the tax percentage and the purchase amount. Add the sales tax and the purchase amount to clculate the total amount due. Display the customer’s name, purchase amount, sales tax and total amount due."
   ]
  },
  {
   "cell_type": "raw",
   "metadata": {},
   "source": [
    "INPUT: customer’s name, purchase amount and tax code\n",
    "\n",
    "OUTPUT: print the customer’s name, purchase amount, sales tax and total amount due\n",
    "\n",
    "PROCESS: \n",
    "\n",
    "BEGIN\n",
    "\n",
    "  Get customer_name\n",
    "  Get purchase_amount\n",
    "  Get tax_code\n",
    "\n",
    "  IF tax_code is 0\n",
    "    set tax_rate = 0%   \n",
    "  ELSE IF tax_code is 1\n",
    "    set tax_rate = 3%\n",
    "  ELSE IF tax_code is 2\n",
    "    set tax_rate = 5%\n",
    "  ELSE \n",
    "    set tax_rate = 7%\n",
    "  ENDIF    \n",
    "\n",
    "  sales_tax = purchased_amount * tax_rate\n",
    "  total = purchased_amount + sales_tax\n",
    "  print the customer_name, purchase_amount, sales_tax and total\n",
    "  \n",
    "END"
   ]
  }
 ],
 "metadata": {
  "kernelspec": {
   "display_name": "Python 3 (ipykernel)",
   "language": "python",
   "name": "python3"
  },
  "language_info": {
   "codemirror_mode": {
    "name": "ipython",
    "version": 3
   },
   "file_extension": ".py",
   "mimetype": "text/x-python",
   "name": "python",
   "nbconvert_exporter": "python",
   "pygments_lexer": "ipython3",
   "version": "3.10.9"
  }
 },
 "nbformat": 4,
 "nbformat_minor": 2
}
