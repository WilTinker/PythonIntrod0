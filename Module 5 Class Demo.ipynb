{
 "cells": [
  {
   "cell_type": "markdown",
   "metadata": {},
   "source": [
    "### Boolean expressions"
   ]
  },
  {
   "cell_type": "code",
   "execution_count": null,
   "metadata": {},
   "outputs": [],
   "source": [
    "water = True\n",
    "lemon = False\n",
    "water and lemon"
   ]
  },
  {
   "cell_type": "code",
   "execution_count": null,
   "metadata": {},
   "outputs": [],
   "source": [
    "print(f\"{water} and {lemon}\")"
   ]
  },
  {
   "cell_type": "code",
   "execution_count": null,
   "metadata": {},
   "outputs": [],
   "source": [
    "print(water,\"and\",lemon)"
   ]
  },
  {
   "cell_type": "code",
   "execution_count": null,
   "metadata": {},
   "outputs": [],
   "source": [
    "print(f\"{water and lemon}\")"
   ]
  },
  {
   "cell_type": "code",
   "execution_count": null,
   "metadata": {},
   "outputs": [],
   "source": [
    "print(f\"{water or lemon}\")"
   ]
  },
  {
   "cell_type": "code",
   "execution_count": null,
   "metadata": {},
   "outputs": [],
   "source": [
    "print(f\"{water and not lemon}\")"
   ]
  },
  {
   "cell_type": "code",
   "execution_count": null,
   "metadata": {},
   "outputs": [],
   "source": [
    "print(f\"{water}\" * 5)"
   ]
  },
  {
   "cell_type": "code",
   "execution_count": null,
   "metadata": {},
   "outputs": [],
   "source": [
    "age = 17\n",
    "teenage = 18\n",
    "print(age < teenage)"
   ]
  },
  {
   "cell_type": "code",
   "execution_count": null,
   "metadata": {},
   "outputs": [],
   "source": [
    "senior = 65\n",
    "print(age >= 65)"
   ]
  },
  {
   "cell_type": "code",
   "execution_count": null,
   "metadata": {},
   "outputs": [],
   "source": [
    "print((age < teenage) and (age >= 65))"
   ]
  },
  {
   "cell_type": "markdown",
   "metadata": {},
   "source": [
    "### Selection statement (conditional statement)"
   ]
  },
  {
   "cell_type": "code",
   "execution_count": null,
   "metadata": {},
   "outputs": [],
   "source": [
    "if (age < teenage) :\n",
    "    print(\"Under aged\")"
   ]
  },
  {
   "cell_type": "code",
   "execution_count": null,
   "metadata": {},
   "outputs": [],
   "source": [
    "registered = true     # Something wrong here!\n",
    "if ((age >= teenage) and registered) :\n",
    "    print(\"eligible to vote\")"
   ]
  },
  {
   "cell_type": "code",
   "execution_count": null,
   "metadata": {},
   "outputs": [],
   "source": [
    "registered = True\n",
    "if ((age >= teenage) and registered) :\n",
    "    print(\"eligible to vote\")"
   ]
  },
  {
   "cell_type": "code",
   "execution_count": null,
   "metadata": {},
   "outputs": [],
   "source": [
    "age = 20\n",
    "if ((age >= teenage) and registered) :\n",
    "    print(\"eligible to vote\")"
   ]
  },
  {
   "cell_type": "code",
   "execution_count": null,
   "metadata": {},
   "outputs": [],
   "source": [
    "def eligible_to_vote (age, registered) :\n",
    "    if ((age >= teenage) and registered) :\n",
    "        print(\"eligible to vote\")\n",
    "        \n",
    "        \n",
    "eligible_to_vote(35, True)     \n",
    "eligible_to_vote(12, False)        \n",
    "eligible_to_vote(59, False)        "
   ]
  },
  {
   "cell_type": "code",
   "execution_count": null,
   "metadata": {},
   "outputs": [],
   "source": [
    "def eligible_to_vote (age, registered) :    \n",
    "    print(f\"age = {age} registered = {registered}\")\n",
    "    \n",
    "    if ((age >= teenage) and registered) :\n",
    "        print(f\"age = {age} eligible to vote\")\n",
    "        \n",
    "        \n",
    "eligible_to_vote(35, True)     \n",
    "eligible_to_vote(12, False)        \n",
    "eligible_to_vote(59, False)        "
   ]
  },
  {
   "cell_type": "code",
   "execution_count": null,
   "metadata": {},
   "outputs": [],
   "source": [
    "def eligible_to_vote2 (age, registered) :    \n",
    "    retval = False\n",
    "    if ((age >= teenage) and registered) :\n",
    "        retval = True\n",
    "    \n",
    "    return retval    \n",
    "        \n",
    "        \n",
    "print(f\"age = 35, registered=True, eligible to vote={eligible_to_vote2(35, True)}\")     \n",
    "print(f\"age = 12, registered=False, eligible to vote={eligible_to_vote2(12, False)}\")   \n",
    "print(f\"age = 59, registered=False, eligible to vote={eligible_to_vote2(59, False)}\")   "
   ]
  },
  {
   "cell_type": "code",
   "execution_count": null,
   "metadata": {},
   "outputs": [],
   "source": [
    "def eligible_to_vote3 (registered) :    \n",
    "    if (registered) :\n",
    "        retval = True\n",
    "    else :    \n",
    "        retval = False\n",
    "    \n",
    "    return retval    \n",
    "\n",
    "print(f\"registered=True, eligible to vote={eligible_to_vote3(True)}\")     \n",
    "print(f\"registered=False, eligible to vote={eligible_to_vote3(False)}\")   \n",
    "print(f\"registered=False, eligible to vote={eligible_to_vote3(False)}\")   "
   ]
  },
  {
   "cell_type": "code",
   "execution_count": null,
   "metadata": {},
   "outputs": [],
   "source": [
    "def eligible_to_vote3 (age, registered) :    \n",
    "    if (registered) :\n",
    "        if (age >= teenage) :\n",
    "            retval = True\n",
    "        else :    \n",
    "            retval = False\n",
    "    else :    \n",
    "        retval = False\n",
    "    \n",
    "    return retval    \n",
    "\n",
    "print(f\"age = 35, registered=True, eligible to vote={eligible_to_vote3(35, True)}\")     \n",
    "print(f\"age = 12, registered=False, eligible to vote={eligible_to_vote3(12, False)}\")   \n",
    "print(f\"age = 59, registered=False, eligible to vote={eligible_to_vote3(59, False)}\")   "
   ]
  },
  {
   "cell_type": "markdown",
   "metadata": {},
   "source": [
    "### Repetition statements (loops)"
   ]
  },
  {
   "cell_type": "code",
   "execution_count": null,
   "metadata": {},
   "outputs": [],
   "source": [
    "def check_hurricane_category(windspeed) :\n",
    "    if windspeed > 155 :\n",
    "        print(f\"Wind speed of {windspeed} is Category 5 Hurricane\")\n",
    "    elif windspeed >= 131 :    \n",
    "        print(f\"Wind speed of {windspeed} is Category 4 Hurricane\")\n",
    "    elif windspeed >= 111 :    \n",
    "        print(f\"Wind speed of {windspeed} is Category 3 Hurricane\")\n",
    "    elif windspeed >= 96 :    \n",
    "        print(f\"Wind speed of {windspeed} is Category 2 Hurricane\")\n",
    "    elif windspeed >= 74 :    \n",
    "        print(f\"Wind speed of {windspeed} is Category 1 Hurricane\")\n",
    "    else :    \n",
    "        print(f\"Wind speed of {windspeed} is not a hurricane\")\n",
    "        \n",
    "answer = input(\"What is the wind's speed? (type 'q' to quit) \")\n",
    "while (answer != 'q') :\n",
    "    check_hurricane_category(int(answer))\n",
    "    answer = input(\"What is the wind's speed? (type 'q' to quit) \")\n",
    "    \n",
    "print(\"Goodbye\")"
   ]
  },
  {
   "cell_type": "code",
   "execution_count": null,
   "metadata": {},
   "outputs": [],
   "source": [
    "# using for loop, ask the question 5 times\n",
    "\n",
    "for index in range(5) :\n",
    "    answer = input(\"What is the wind's speed? \")\n",
    "    check_hurricane_category(int(answer))\n",
    "\n",
    "print(\"Goodbye\")    "
   ]
  },
  {
   "cell_type": "code",
   "execution_count": null,
   "metadata": {},
   "outputs": [],
   "source": [
    "# using break...\n",
    "# using for loop, ask the question 5 times or less\n",
    "\n",
    "for index in range(5) :\n",
    "    answer = input(\"What is the wind's speed? (type 'q' to quit): \")\n",
    "    if answer == 'q' :\n",
    "        break\n",
    "    else :    \n",
    "        check_hurricane_category(int(answer))\n",
    "\n",
    "print(\"Goodbye\")         "
   ]
  },
  {
   "cell_type": "code",
   "execution_count": null,
   "metadata": {},
   "outputs": [],
   "source": [
    "# Using an infinite loop. Generally not used this way\n",
    "while True :\n",
    "    answer = input(\"What is the wind's speed? (type 'q' to quit) \")\n",
    "    if answer == 'q' :\n",
    "        break\n",
    "        \n",
    "    check_hurricane_category(int(answer))\n",
    "    \n",
    "    \n",
    "print(\"Goodbye\")"
   ]
  }
 ],
 "metadata": {
  "kernelspec": {
   "display_name": "Python 3 (ipykernel)",
   "language": "python",
   "name": "python3"
  },
  "language_info": {
   "codemirror_mode": {
    "name": "ipython",
    "version": 3
   },
   "file_extension": ".py",
   "mimetype": "text/x-python",
   "name": "python",
   "nbconvert_exporter": "python",
   "pygments_lexer": "ipython3",
   "version": "3.9.12"
  }
 },
 "nbformat": 4,
 "nbformat_minor": 4
}
