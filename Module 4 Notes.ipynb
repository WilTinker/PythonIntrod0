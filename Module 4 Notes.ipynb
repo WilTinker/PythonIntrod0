{
 "cells": [
  {
   "cell_type": "markdown",
   "metadata": {},
   "source": [
    "### Getting Input\n",
    "We prompt the user for information and then take in their answer using the input() fnction. It's a way to get data into your program. \n",
    "\n",
    "The input() function returns user input as a string."
   ]
  },
  {
   "cell_type": "code",
   "execution_count": 1,
   "metadata": {},
   "outputs": [
    {
     "name": "stdout",
     "output_type": "stream",
     "text": [
      "How old are you?\n",
      "20\n"
     ]
    }
   ],
   "source": [
    "# You can use print() to prompt the user and then input() to get the answer.\n",
    "print(\"How old are you?\")\n",
    "age = input()"
   ]
  },
  {
   "cell_type": "code",
   "execution_count": 2,
   "metadata": {},
   "outputs": [
    {
     "name": "stdout",
     "output_type": "stream",
     "text": [
      "How old are you? 18\n"
     ]
    }
   ],
   "source": [
    "# input() and print() are both built-in functions \n",
    "# Here the input() function stores the answer in a variable called age\n",
    "\n",
    "# What if you want the answer on the same line as the question?\n",
    "# Try this one.\n",
    "print(\"How old are you?\", end=' ')\n",
    "age = input()"
   ]
  },
  {
   "cell_type": "markdown",
   "metadata": {},
   "source": [
    "We put an **end=' '** at the end of each print statement. It tells print function not to end the line with a newline character.\n",
    "In fact, we just told print function to end the line with a blank (' '). "
   ]
  },
  {
   "cell_type": "code",
   "execution_count": 3,
   "metadata": {},
   "outputs": [
    {
     "name": "stdout",
     "output_type": "stream",
     "text": [
      "How old are you? 18\n",
      "How tall are you? 5' 8\"\n",
      "How much do you weigh? 100\n",
      "So, you're 18 years old, 5' 8\" tall and 100 heavy.\n"
     ]
    }
   ],
   "source": [
    "print(\"How old are you?\", end=' ')\n",
    "age = input()\n",
    "print(\"How tall are you?\", end=' ')\n",
    "height = input()\n",
    "print(\"How much do you weigh?\", end=' ')\n",
    "weight = input()\n",
    "\n",
    "# What is this again? Using a what kind of String?\n",
    "print(f\"So, you're {age} years old, {height} tall and {weight} heavy.\")"
   ]
  },
  {
   "cell_type": "code",
   "execution_count": 4,
   "metadata": {},
   "outputs": [
    {
     "name": "stdout",
     "output_type": "stream",
     "text": [
      "How old are you? 12\n",
      "How tall are you? 5\n",
      "How much do you weigh? 65\n",
      "So, you're 12 years old, 5 tall and 65 heavy.\n"
     ]
    }
   ],
   "source": [
    "# This prompts the user with \"How old are you? \" and puts the answer into the variable, age.\n",
    "age = input(\"How old are you? \")\n",
    "\n",
    "# and what do these do?\n",
    "height = input(\"How tall are you? \")\n",
    "weight = input(\"How much do you weigh? \")\n",
    "\n",
    "print(f\"So, you're {age} years old, {height} tall and {weight} heavy.\")\n",
    "\n",
    "# notice how we don't use end in this case.\n",
    "# we also shortened the code by half. "
   ]
  },
  {
   "cell_type": "code",
   "execution_count": 5,
   "metadata": {},
   "outputs": [
    {
     "name": "stdout",
     "output_type": "stream",
     "text": [
      "I'd like to ask you a few questions.\n",
      "What is your name? \n",
      "> Elmo\n",
      "Do you find Pythod fun, Elmo? \n",
      "> sure\n",
      "Where do you live Elmo ?\n",
      "> somewhere\n",
      "What kind of computer do you have?\n",
      "> good\n",
      "\n",
      "Alright, your name is Elmo and you said 'sure' about liking me.\n",
      "You live in somewhere. Not sure where that is.\n",
      "And you have a good computer. Nice.\n",
      " \n"
     ]
    }
   ],
   "source": [
    "# Let's put a variable inside the prompt for an input\n",
    "# using this as a prompt\n",
    "prompt = '> '\n",
    "\n",
    "print(\"I'd like to ask you a few questions.\")\n",
    "print(\"What is your name? \")\n",
    "name = input(prompt)\n",
    "\n",
    "print(f\"Do you find Pythod fun, {name}? \")\n",
    "like = input(prompt)\n",
    "print(f\"Where do you live {name} ?\")\n",
    "lives = input(prompt)\n",
    "\n",
    "print(\"What kind of computer do you have?\")\n",
    "computer = input(prompt)\n",
    "\n",
    "# Now, take the inputs and use those values in a formatted form\n",
    "print(f\"\"\"\n",
    "Alright, your name is {name} and you said '{like}' about liking me.\n",
    "You live in {lives}. Not sure where that is.\n",
    "And you have a {computer} computer. Nice.\n",
    " \"\"\")\n"
   ]
  },
  {
   "cell_type": "code",
   "execution_count": 6,
   "metadata": {},
   "outputs": [
    {
     "name": "stdout",
     "output_type": "stream",
     "text": [
      "How old are you? 5\n",
      "In 10 years, you will be 15\n"
     ]
    }
   ],
   "source": [
    "# Now, try this code\n",
    "urage = input(\"How old are you? \")\n",
    "# print(f\"In 10 years, you will be {urage+10}\")\n",
    "# input: 5\n",
    "# output: In 10 years, you will be 15\n",
    "print(f\"In 10 years, you will be {int(urage)+10}\")"
   ]
  },
  {
   "cell_type": "code",
   "execution_count": null,
   "metadata": {},
   "outputs": [],
   "source": [
    "# What is happening?\n",
    "\n",
    "# Remeber at the top of the page, \n",
    "# \"Input function returns user input after converting into a string.\"\n",
    "# So, you are trying to add a numberic value to a string and pythood is giving you an error.\n",
    "\n",
    "urage = input(\"How old are you? \")\n",
    "numb_urage = int(urage)                              # here, casting(or converting) string into an integer\n",
    "print(f\"In 10 years, you will be {numb_urage+10}\")"
   ]
  },
  {
   "cell_type": "markdown",
   "metadata": {},
   "source": [
    "### Functions? Functions!\n",
    "\n",
    "What are functions? Well, you already used functions: *print()* and *input()*\n",
    "\n",
    "A function is a group of statements that perfoms a *specific task*. Functions accept data, process it, and (may) return a result. \n",
    "#### Benefits of using functions are:\n",
    "##### - Organization\n",
    "A function is like a mini-program. Function allows us to divide a complicated program into a smaller, more manageable blocks. When defining a function, you can concentrate on the functionality of a function rather than on the entire complexity of your program.\n",
    "\n",
    "##### - Reusability\n",
    "Once a function is defined, it can be used **without** writing the same code again and again.\n",
    "\n",
    "##### - Testing\n",
    "Because a function reduces a redundancy, there is less code to test in the first place. Also, because functions are self-contained, once a function has been tested to ensure it works, you don't need to test it again unless you modified it.\n",
    "\n",
    "##### - Extensibility\n",
    "When you need to extend functionalities, you could modify in one place (in a function) and have that change take effect every time the function is called.\n",
    "\n",
    "##### - Abstraction\n",
    "You don't need to know ***how a function works***. You just need to know the name, arguements, and output(functionality) of a function. \n",
    "\n",
    "\n",
    "#### syntax:\n",
    "\n",
    "**def** *function_name* **(** *arguement1, arguement2, ...* **):**\n",
    "\n",
    "        statement1\n",
    "        statement2\n",
    "        ...\n",
    "        statementn\n",
    "\n",
    "where you decide on what the function's name is and decide what it will do using statements.\n",
    "\n",
    "Within the parenthsis, you put the amount of arguments you have seperated each by commas.\n",
    "After the colon, all the lines that are **indented *four spaces*** will be a part of the function.\n",
    "\n",
    "Using **def** is how you define a function but it cannot be used until you call it.\n",
    "You can *call* it only after you have *defined* it.\n",
    "\n",
    "\n",
    "*This is a perfect place to start using IPO diagram*"
   ]
  },
  {
   "cell_type": "code",
   "execution_count": 7,
   "metadata": {},
   "outputs": [
    {
     "name": "stdout",
     "output_type": "stream",
     "text": [
      "**********\n",
      "inside print_two function.\n",
      "arg1: Elmo\n",
      "arg2: Sleepy\n",
      "arg1: Elmo, arg2: Sleepy\n",
      "**********\n",
      "inside print_one function.\n",
      "arg1: one item\n",
      "I got nothin'.\n"
     ]
    }
   ],
   "source": [
    "# Remember! \n",
    "# Function\n",
    "# 1. has a name - same as variable name strings and numbers\n",
    "# 2. takes arguements - also called parameters\n",
    "# 3. can do one action or multiple actions inside a function\n",
    " \n",
    "# this one takes no arguments\n",
    "def print_none():\n",
    "    print(\"I got nothin'.\")\n",
    "\n",
    "# this just takes one argument\n",
    "def print_one(arg1):\n",
    "    print(\"*\" * 10)\n",
    "    print(\"inside print_one function.\")\n",
    "    print(f\"arg1: {arg1}\")\n",
    "\n",
    "# ok here this takes two arguments\n",
    "def print_two(arg1, arg2):\n",
    "    print(\"*\" * 10)\n",
    "    print(\"inside print_two function.\")\n",
    "    print(f\"arg1: {arg1}\")\n",
    "    print(f\"arg2: {arg2}\")\n",
    "    print(f\"arg1: {arg1}, arg2: {arg2}\")\n",
    "\n",
    "# So far, we just defined functions.\n",
    "# Now, we'll call them.\n",
    "\n",
    "print_two('Elmo',\"Sleepy\")\n",
    "print_one(\"one item\")\n",
    "print_none()\n"
   ]
  },
  {
   "cell_type": "code",
   "execution_count": 8,
   "metadata": {},
   "outputs": [
    {
     "name": "stdout",
     "output_type": "stream",
     "text": [
      "inside print_out function\n",
      "19 + 5 = 24\n"
     ]
    }
   ],
   "source": [
    "# Try this. What is happening here?  \n",
    "\n",
    "def print_out(arg1, arg2):\n",
    "    print(\"inside print_out function\")    \n",
    "    temp_val = arg1 + arg2\n",
    "    return temp_val\n",
    "    \n",
    "print(f\"19 + 5 = {print_out(19, 5)}\")    "
   ]
  },
  {
   "cell_type": "code",
   "execution_count": 10,
   "metadata": {},
   "outputs": [
    {
     "name": "stdout",
     "output_type": "stream",
     "text": [
      "We can just give the function numbers directly:\n",
      "You have 100 cheeses!\n",
      "You have 270 boxes of crackers!\n",
      "Man, that's enough for a party!\n",
      "Get a blanket.\n",
      "\n"
     ]
    }
   ],
   "source": [
    "# We are now using functions with variables or numbers or variables changed by math\n",
    "\n",
    "#takes two arguments\n",
    "def cheese_and_crackers(cheese_count, boxes_of_crackers):\n",
    "    print(f\"You have {cheese_count*5} cheeses!\")\n",
    "    print(f\"You have {boxes_of_crackers*9} boxes of crackers!\")\n",
    "    print(\"Man, that's enough for a party!\")\n",
    "    print(\"Get a blanket.\\n\")\n",
    "\n",
    "#takes two arguments as numbers then assigns it to the variables in the definition\n",
    "print(\"We can just give the function numbers directly:\")\n",
    "cheese_and_crackers(20, 30)\n"
   ]
  },
  {
   "cell_type": "code",
   "execution_count": 11,
   "metadata": {},
   "outputs": [
    {
     "name": "stdout",
     "output_type": "stream",
     "text": [
      "OR, we can use variables from our script:\n",
      "You have 50 cheeses!\n",
      "You have 450 boxes of crackers!\n",
      "Man, that's enough for a party!\n",
      "Get a blanket.\n",
      "\n"
     ]
    }
   ],
   "source": [
    "#takes two arguments as variables(parameters) then assigns it to the variables in the definition\n",
    "print(\"OR, we can use variables from our script:\")\n",
    "amount_of_cheese = 10\n",
    "amount_of_crackers = 50\n",
    "cheese_and_crackers(amount_of_cheese, amount_of_crackers)"
   ]
  },
  {
   "cell_type": "code",
   "execution_count": 12,
   "metadata": {},
   "outputs": [
    {
     "name": "stdout",
     "output_type": "stream",
     "text": [
      "You have 5 cheeses!\n",
      "You have 45 boxes of crackers!\n",
      "Man, that's enough for a party!\n",
      "Get a blanket.\n",
      "\n"
     ]
    }
   ],
   "source": [
    "acheese = 1\n",
    "acrackers = 5\n",
    "cheese_and_crackers(acheese, acrackers)"
   ]
  },
  {
   "cell_type": "code",
   "execution_count": 13,
   "metadata": {},
   "outputs": [
    {
     "name": "stdout",
     "output_type": "stream",
     "text": [
      "We can even do math inside too:\n",
      "You have 150 cheeses!\n",
      "You have 99 boxes of crackers!\n",
      "Man, that's enough for a party!\n",
      "Get a blanket.\n",
      "\n"
     ]
    }
   ],
   "source": [
    "#takes two arguments but uses math ( no variables)\n",
    "print(\"We can even do math inside too:\")\n",
    "cheese_and_crackers(10 + 20, 5 + 6)"
   ]
  },
  {
   "cell_type": "code",
   "execution_count": 14,
   "metadata": {},
   "outputs": [
    {
     "name": "stdout",
     "output_type": "stream",
     "text": [
      "And we can combine the two, variables and math:\n",
      "You have 550 cheeses!\n",
      "You have 9450 boxes of crackers!\n",
      "Man, that's enough for a party!\n",
      "Get a blanket.\n",
      "\n"
     ]
    }
   ],
   "source": [
    "#can use a parameter and do math with it\n",
    "print(\"And we can combine the two, variables and math:\")\n",
    "cheese_and_crackers(amount_of_cheese + 100, amount_of_crackers + 1000)"
   ]
  },
  {
   "cell_type": "code",
   "execution_count": 15,
   "metadata": {},
   "outputs": [
    {
     "name": "stdout",
     "output_type": "stream",
     "text": [
      "How many pieces of cheese do you have?3\n",
      "How many crackers?3\n",
      "You have 15 cheeses!\n",
      "You have 27 boxes of crackers!\n",
      "Man, that's enough for a party!\n",
      "Get a blanket.\n",
      "\n"
     ]
    }
   ],
   "source": [
    "# What about???\n",
    "cheese_and_crackers(int(input(\"How many pieces of cheese do you have?\")), int(input(\"How many crackers?\")))"
   ]
  },
  {
   "cell_type": "code",
   "execution_count": 16,
   "metadata": {},
   "outputs": [
    {
     "name": "stdout",
     "output_type": "stream",
     "text": [
      "How many pieces of cheese do you have?3\n",
      "How many crackers?3\n",
      "You have 33333 cheeses!\n",
      "You have 333333333 boxes of crackers!\n",
      "Man, that's enough for a party!\n",
      "Get a blanket.\n",
      "\n"
     ]
    }
   ],
   "source": [
    "# What about???\n",
    "cheese_and_crackers(input(\"How many pieces of cheese do you have?\"), input(\"How many crackers?\"))"
   ]
  },
  {
   "cell_type": "markdown",
   "metadata": {},
   "source": [
    "### Function with Returning Value\n",
    "\n",
    "As you already know, **input()** is a function and it returns a value.\n",
    "Example: name = input(\"What is your name\")\n",
    "\n",
    "To define a function that returns a value, you need to use a **return** statement at the end of your function definition."
   ]
  },
  {
   "cell_type": "code",
   "execution_count": 18,
   "metadata": {},
   "outputs": [
    {
     "name": "stdout",
     "output_type": "stream",
     "text": [
      "Let's do some math with just functions!\n",
      "Age: 35, Height: 74, Weight: 180, IQ: 50.0\n"
     ]
    }
   ],
   "source": [
    "# Examples\n",
    "\n",
    "def add(a, b):\n",
    "    print(f\"ADDING {a} + {b}\")\n",
    "    return a + b\n",
    "\n",
    "def subtract(a, b):\n",
    "    print(f\"SUBTRACTING {a} - {b}\")\n",
    "    return a - b\n",
    "\n",
    "def multiply(a, b):\n",
    "    print(f\"MULTIPLYING {a} * {b}\")\n",
    "    return a * b\n",
    "\n",
    "def divide(a, b):\n",
    "    print(f\"DIVIDING {a} / {b}\")\n",
    "    return a / b\n",
    "\n",
    "\n",
    "print(\"Let's do some math with just functions!\")\n",
    "\n",
    "age = add(30, 5)\n",
    "height = subtract(78, 4)\n",
    "weight = multiply(90, 2)\n",
    "iq = divide(100, 2)\n",
    "\n",
    "print(f\"Age: {age}, Height: {height}, Weight: {weight}, IQ: {iq}\")"
   ]
  },
  {
   "cell_type": "code",
   "execution_count": 19,
   "metadata": {},
   "outputs": [
    {
     "name": "stdout",
     "output_type": "stream",
     "text": [
      "Here is a puzzle.\n",
      "That becomes:  -4391.0 Can you do it by hand?\n"
     ]
    }
   ],
   "source": [
    "# A puzzle for the extra credit, type it in anyway.\n",
    "print(\"Here is a puzzle.\")\n",
    "\n",
    "what = add(age, subtract(height, multiply(weight, divide(iq, 2))))\n",
    "print(\"That becomes: \", what, \"Can you do it by hand?\")"
   ]
  },
  {
   "cell_type": "code",
   "execution_count": 20,
   "metadata": {},
   "outputs": [
    {
     "name": "stdout",
     "output_type": "stream",
     "text": [
      "MULTIPLYING 2 * 3* 1\n",
      "MULTIPLYING 2 * 3* 4\n",
      "x=6 and y=24\n"
     ]
    }
   ],
   "source": [
    "# What is happening here? Try running it.\n",
    "\n",
    "def multiply(a, b, c=1):\n",
    "    print(f\"MULTIPLYING {a} * {b}* {c}\")\n",
    "    return a * b * c\n",
    "\n",
    "x=multiply(2,3)\n",
    "y=multiply(2,3,4)\n",
    "print(f\"x={x} and y={y}\")"
   ]
  },
  {
   "cell_type": "code",
   "execution_count": null,
   "metadata": {},
   "outputs": [],
   "source": []
  }
 ],
 "metadata": {
  "kernelspec": {
   "display_name": "Python 3 (ipykernel)",
   "language": "python",
   "name": "python3"
  },
  "language_info": {
   "codemirror_mode": {
    "name": "ipython",
    "version": 3
   },
   "file_extension": ".py",
   "mimetype": "text/x-python",
   "name": "python",
   "nbconvert_exporter": "python",
   "pygments_lexer": "ipython3",
   "version": "3.9.12"
  }
 },
 "nbformat": 4,
 "nbformat_minor": 2
}
