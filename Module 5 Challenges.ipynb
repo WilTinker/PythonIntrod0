{
 "cells": [
  {
   "cell_type": "markdown",
   "id": "4e1eb849",
   "metadata": {},
   "source": [
    "## Challenge: Write Python programs to calculate employee pay."
   ]
  },
  {
   "cell_type": "markdown",
   "id": "7c7b5792",
   "metadata": {},
   "source": [
    "### Pseudocode to calculate weekly pay"
   ]
  },
  {
   "cell_type": "raw",
   "id": "6d9bbb43",
   "metadata": {},
   "source": [
    "BEGIN\n",
    "\n",
    "Get employee number\n",
    "\n",
    "Get payrate\n",
    "LOOP while payrate is greater than 25\n",
    "    Get corrected payrate\n",
    "ENDLOOP\n",
    "    \n",
    "Get hours_worked\n",
    "LOOP while hours_worked is greater than 60\n",
    "    Get corrected hours_worked\n",
    "ENDLOOP\n",
    "\n",
    "IF hours_worked is greater than 35 hours THEN\n",
    "    overtime_hours = hour_worked - 35\n",
    "    overtime_pay = payrate x 1.5 x overtime_hours\n",
    "    regular_hours = 35\n",
    "ELSE\n",
    "    overtime_hours = 0\n",
    "    overtime_pay = 0\n",
    "    regular_hours = hours_worked\n",
    "ENDIF\n",
    "\n",
    "regular_pay = regular_hours x payrate\n",
    "weekly_pay = regular_pay + overtime_pay \n",
    "\n",
    "Display employee number, hourly_rate, hours_worked and weekly_pay    \n",
    "\n",
    "END"
   ]
  },
  {
   "cell_type": "markdown",
   "id": "17b77c35",
   "metadata": {},
   "source": [
    "### Challenge 2: Using the pseudocode shown above, write a Python program to calculate employees's pay that allows the user to correct hours worked and pay rate"
   ]
  },
  {
   "cell_type": "code",
   "execution_count": null,
   "id": "b0ce63ce",
   "metadata": {},
   "outputs": [],
   "source": [
    "# Calculate employee's weekly pay"
   ]
  },
  {
   "cell_type": "code",
   "execution_count": 5,
   "id": "d31af34d",
   "metadata": {},
   "outputs": [
    {
     "name": "stdout",
     "output_type": "stream",
     "text": [
      "Enter the first number: 34\n",
      "Enter the second number: 34\n",
      "34.0 and 34.0 are the same number!\n",
      "Goodbye!\n"
     ]
    }
   ],
   "source": [
    "# Get 2 numbers from the user\n",
    "num1 = float(input(\"Enter the first number: \"))\n",
    "num2 = float(input(\"Enter the second number: \"))\n",
    "\n",
    "# Find the larger number\n",
    "if (num1 > num2) :\n",
    "    print(\"The first number you entered is the larger number.\")\n",
    "elif (num2 > num1) :\n",
    "    print(\"The second number you entered is the larger number.\")\n",
    "else :\n",
    "    print(f\"{num1} and {num2} are the same number!\")\n",
    "print(\"Goodbye!\")\n",
    "\n"
   ]
  },
  {
   "cell_type": "raw",
   "id": "2e7a81f0",
   "metadata": {},
   "source": [
    "# Get customer name\n",
    "    #BEGIN\n",
    "    #Get customer_name\n",
    "    # Get purchase_amount\n",
    "    # Get tax_code\n",
    "    IF tax_code is 0\n",
    "    set tax_rate = 0%\n",
    "    ELSE IF tax_code is 1\n",
    "    set tax_rate = 3%\n",
    "    ELSE IF tax_code is 2\n",
    "    set tax_rate = 5%\n",
    "    ELSE\n",
    "    set tax_rate = 7%\n",
    "    ENDIF\n",
    "    #sales_tax = purchased_amount * tax_rate\n",
    "    # total = purchased_amount + sales tax\n",
    "    #print the customer_name, purchase_amount, sales_tax and total\n",
    "    #END\n"
   ]
  },
  {
   "cell_type": "code",
   "execution_count": 14,
   "id": "cd0b4587",
   "metadata": {},
   "outputs": [
    {
     "name": "stdout",
     "output_type": "stream",
     "text": [
      "Please enter the customer's name: Osvaldo\n",
      "Enter the purchase amount: 1000\n",
      "Please enter the tax code, 0, 1, 2 or none: 2\n",
      "Customer:\tOsvaldo\n",
      "Purchase:\t$1,000.00\n",
      "Sales tax:\t50.00\n",
      "Total:\tt$1,050.00\n"
     ]
    }
   ],
   "source": [
    "def get_sales_tax(amount) :\n",
    "    tax_code = input(\"Please enter the tax code, 0, 1, 2 or none: \")\n",
    "    \n",
    "    if tax_code == \"0\" :\n",
    "        tax_rate = 0.0\n",
    "    elif tax_code == \"1\" :\n",
    "        tax_rate = 0.03\n",
    "    elif tax_code == '2' :\n",
    "        tax_rate = 0.05\n",
    "    else :\n",
    "        tax_rate = 0.07\n",
    "    \n",
    "    sales_tax = purchase_amount * tax_rate\n",
    "    return sales_tax\n",
    "\n",
    "customer_name = input(\"Please enter the customer's name: \")\n",
    "purchase_amount = float(input(\"Enter the purchase amount: \"))\n",
    "sales_tax = get_sales_tax(purchase_amount)\n",
    "total = purchase_amount + sales_tax\n",
    "print(f\"Customer:\\t{customer_name}\\nPurchase:\\t${purchase_amount:,.2f}\")\n",
    "print(f\"Sales tax:\\t{sales_tax:,.2f}\\nTotal:\\t${total:,.2f}\")\n",
    "    "
   ]
  },
  {
   "cell_type": "raw",
   "id": "40aa88bb",
   "metadata": {},
   "source": [
    "BEGIN\n",
    "Get wind_speed\n",
    "IF wind_speed is greater than 155\n",
    "Display category_5 message\n",
    "ELSE IF wind_speed is greater than or equal to 131\n",
    "Display category_4 message\n",
    "ELSE IF wind_speed is greater than or equal to 111\n",
    "Display category_3 message\n",
    "ELSE IF wind_speed is greater than or equal to 96\n",
    "Display category_2 message\n",
    "ELSE IF wind_speed is greater than or equal to 74\n",
    "Display category_1 message\n",
    "ELSE\n",
    "Display not_a_hurricane message\n",
    "ENDIF\n",
    "END\n"
   ]
  },
  {
   "cell_type": "code",
   "execution_count": 44,
   "id": "ea128400",
   "metadata": {},
   "outputs": [
    {
     "name": "stdout",
     "output_type": "stream",
     "text": [
      "Please enter the wind speed, in mph: 70\n",
      "Not a hurricane\n"
     ]
    }
   ],
   "source": [
    "wSpeed = float(input(\"Please enter the wind speed, in mph: \"))\n",
    "\n",
    "def get_wind_speed(number) :    \n",
    "    if wSpeed > 155 :\n",
    "        message = \"category_5 message\"\n",
    "    elif wSpeed  >= 131 :\n",
    "        message = \"category_4 message\"\n",
    "    elif wSpeed  >= 111 :\n",
    "        message = \"category_3 message\"\n",
    "    elif wSpeed  >= 96 :\n",
    "        message = \"category_2 message\"\n",
    "    elif wSpeed  >= 74 :\n",
    "        message = \"category_1 message\"\n",
    "    else :\n",
    "        message = \"Not a hurricane\"\n",
    "    return message\n",
    " \n",
    "message = get_wind_speed(wSpeed)\n",
    "# Call the function\n",
    "print(message) "
   ]
  },
  {
   "cell_type": "code",
   "execution_count": null,
   "id": "82803b3a",
   "metadata": {},
   "outputs": [],
   "source": []
  },
  {
   "cell_type": "code",
   "execution_count": null,
   "id": "38f1c724",
   "metadata": {},
   "outputs": [],
   "source": []
  }
 ],
 "metadata": {
  "kernelspec": {
   "display_name": "Python 3 (ipykernel)",
   "language": "python",
   "name": "python3"
  },
  "language_info": {
   "codemirror_mode": {
    "name": "ipython",
    "version": 3
   },
   "file_extension": ".py",
   "mimetype": "text/x-python",
   "name": "python",
   "nbconvert_exporter": "python",
   "pygments_lexer": "ipython3",
   "version": "3.10.9"
  }
 },
 "nbformat": 4,
 "nbformat_minor": 5
}
