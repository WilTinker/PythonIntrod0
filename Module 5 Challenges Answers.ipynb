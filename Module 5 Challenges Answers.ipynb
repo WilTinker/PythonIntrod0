{
 "cells": [
  {
   "cell_type": "markdown",
   "id": "4e1eb849",
   "metadata": {},
   "source": [
    "## Challenge: Write Python programs to calculate employee pay."
   ]
  },
  {
   "cell_type": "markdown",
   "id": "7c7b5792",
   "metadata": {},
   "source": [
    "### Pseudocode to calculate weekly pay"
   ]
  },
  {
   "cell_type": "raw",
   "id": "6d9bbb43",
   "metadata": {},
   "source": [
    "BEGIN\n",
    "\n",
    "Get employee number\n",
    "\n",
    "Get payrate\n",
    "LOOP while payrate is greater than 25\n",
    "    Get corrected payrate\n",
    "ENDLOOP\n",
    "    \n",
    "Get hours_worked\n",
    "LOOP while hours_worked is greater than 60\n",
    "    Get corrected hours_worked\n",
    "ENDLOOP\n",
    "\n",
    "IF hours_worked is greater than 35 hours THEN\n",
    "    overtime_hours = hour_worked - 35\n",
    "    overtime_pay = payrate x 1.5 x overtime_hours\n",
    "    regular_hours = 35\n",
    "ELSE\n",
    "    overtime_hours = 0\n",
    "    overtime_pay = 0\n",
    "    regular_hours = hours_worked\n",
    "ENDIF\n",
    "\n",
    "regular_pay = regular_hours x payrate\n",
    "weekly_pay = regular_pay + overtime_pay \n",
    "\n",
    "Display employee number, hourly_rate, hours_worked and weekly_pay    \n",
    "\n",
    "END"
   ]
  },
  {
   "cell_type": "markdown",
   "id": "17b77c35",
   "metadata": {},
   "source": [
    "### Challenge 2: Using the pseudocode shown above, write a Python program to calculate employees's pay that allows the user to correct hours worked and pay rate"
   ]
  },
  {
   "cell_type": "code",
   "execution_count": null,
   "id": "51a8abc3",
   "metadata": {},
   "outputs": [],
   "source": [
    "# Calculate employee's weekly pay\n",
    "\n",
    "employee_id = input(\"What is employee number? \")\n",
    "payrate = float(input(\"What is employee's payrate? \"))\n",
    "while payrate > 25 :\n",
    "    payrate = float(input(\"Incorrect entry. Please re-enter employee's payrate. \"))\n",
    "    \n",
    "worked_hr = float(input(\"What is employee's worked hours? \"))    \n",
    "while worked_hr > 60 :\n",
    "    worked_hr = float(input(\"Incorrect entry. Please re-enter employee's worked hours. \"))\n",
    "\n",
    "if worked_hr > 35 :\n",
    "    over_hr = worked_hr - 35\n",
    "    over_pay = payrate * 1.5 * over_hr\n",
    "    reg_hr = 35\n",
    "else :\n",
    "    over_hr = 0\n",
    "    over_pay = 0\n",
    "    reg_hr = worked_hr\n",
    "    \n",
    "reg_pay = reg_hr * payrate\n",
    "wk_pay = reg_pay + over_pay\n",
    "\n",
    "print(f\"\"\"\n",
    "Employee: {employee_id}\n",
    "Payrate: ${payrate:.2f}\n",
    "Hours Worked: {worked_hr}\n",
    "Pay: ${wk_pay:,.2f}\n",
    "\"\"\")"
   ]
  },
  {
   "cell_type": "code",
   "execution_count": null,
   "id": "b0ce63ce",
   "metadata": {},
   "outputs": [],
   "source": [
    "# Calculate employee's weekly pay\n",
    "# This example introduces constants\n",
    "\n",
    "# using constant values\n",
    "MAXRATE = 25.0\n",
    "MAXHR = 60\n",
    "REGHR = 35\n",
    "\n",
    "employee_id = input(\"What is employee number? \")\n",
    "payrate = float(input(\"What is employee's payrate? \"))\n",
    "while payrate > MAXRATE :\n",
    "    payrate = float(input(\"Incorrect entry. Please re-enter employee's payrate. \"))\n",
    "    \n",
    "worked_hr = float(input(\"What is employee's worked hours? \"))    \n",
    "while worked_hr > MAXHR :\n",
    "    worked_hr = float(input(\"Incorrect entry. Please re-enter employee's worked hours. \"))\n",
    "\n",
    "if worked_hr > REGHR :\n",
    "    over_hr = worked_hr - REGHR\n",
    "    over_pay = payrate * 1.5 * over_hr\n",
    "    reg_hr = REGHR\n",
    "else :\n",
    "    over_hr = 0\n",
    "    over_pay = 0\n",
    "    reg_hr = worked_hr\n",
    "    \n",
    "reg_pay = reg_hr * payrate\n",
    "wk_pay = reg_pay + over_pay\n",
    "\n",
    "print(f\"\"\"\n",
    "Employee: {employee_id}\n",
    "Payrate: ${payrate:.2f}\n",
    "Hours Worked: {worked_hr}\n",
    "Pay: ${wk_pay:,.2f}\n",
    "\"\"\")"
   ]
  }
 ],
 "metadata": {
  "kernelspec": {
   "display_name": "Python 3 (ipykernel)",
   "language": "python",
   "name": "python3"
  },
  "language_info": {
   "codemirror_mode": {
    "name": "ipython",
    "version": 3
   },
   "file_extension": ".py",
   "mimetype": "text/x-python",
   "name": "python",
   "nbconvert_exporter": "python",
   "pygments_lexer": "ipython3",
   "version": "3.9.12"
  }
 },
 "nbformat": 4,
 "nbformat_minor": 5
}
