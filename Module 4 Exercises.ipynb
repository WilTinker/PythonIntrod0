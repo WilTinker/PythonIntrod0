{
 "cells": [
  {
   "cell_type": "markdown",
   "metadata": {},
   "source": [
    "### Exercise 1: \n",
    "Ask for a birthday, a favorite gift, and their dream job. Then, display summerized information in a formated string."
   ]
  },
  {
   "cell_type": "code",
   "execution_count": 1,
   "metadata": {},
   "outputs": [
    {
     "name": "stdout",
     "output_type": "stream",
     "text": [
      "Enter your birthday: Sept 30th\n",
      "Enter your favorite gift: choclate cake\n",
      "Enter your dream job: Product manager\n",
      "Birthday:\tSept 30th\n",
      "Favorite gift:\tchoclate cake\n",
      "Dream job:\tProduct manager\n"
     ]
    }
   ],
   "source": [
    "# ask for a birthday\n",
    "birthday = input(\"Enter your birthday: \")\n",
    "\n",
    "# ask for a favorite gift\n",
    "fav_gift = input(\"Enter your favorite gift: \")\n",
    "\n",
    "# ask for the dream job\n",
    "dream_job = input(\"Enter your dream job: \")\n",
    "# display the information using a formatted string\n",
    "print(f\"Birthday:\\t{birthday}\\nFavorite gift:\\t{fav_gift}\\nDream job:\\t{dream_job}\")"
   ]
  },
  {
   "cell_type": "markdown",
   "metadata": {},
   "source": [
    "### Exercise 2: \n",
    "Ask for a favorite song, favorite movie, and favorite book.\n",
    "Use print() statements to ask the questions. Make sure the user types the answer on the same line as the question.\n",
    "\n",
    "Display summerized string."
   ]
  },
  {
   "cell_type": "code",
   "execution_count": null,
   "metadata": {},
   "outputs": [],
   "source": [
    "# ask for a favorite song using a print statement\n",
    "\n",
    "(print(\"What is your favorite song?\", end='-->'))\n",
    "song=input()\n",
    "\n",
    "\n",
    "# ask for a favorite movie using a print statement\n",
    "input(print(\"What is your favorite movie?\", end='-->'))\n",
    "movie=input()\n",
    "\n",
    "# ask for a favorite book using a print statement\n",
    "input(print(\"What is your favorite book?\", end='-->'))\n",
    "book=input()\n",
    "\n",
    "# summerize\n",
    "print(f\"Song:\\t{song}\\nMovie:\\t{movie}\\nBook:\\t{book}\")\n"
   ]
  },
  {
   "cell_type": "code",
   "execution_count": null,
   "metadata": {},
   "outputs": [],
   "source": []
  },
  {
   "cell_type": "markdown",
   "metadata": {},
   "source": [
    "### Exercise 3\n",
    "Create a function that concatonates two strings and prints the new sentence out. Then, ask a user to type in two strings and print out the concatonation by calling your function.\n"
   ]
  },
  {
   "cell_type": "code",
   "execution_count": 5,
   "metadata": {},
   "outputs": [],
   "source": [
    "# create a function\n",
    "def my_function(str1, str2):\n",
    "    return str1 + str2\n",
    "    "
   ]
  },
  {
   "cell_type": "code",
   "execution_count": 6,
   "metadata": {},
   "outputs": [
    {
     "name": "stdout",
     "output_type": "stream",
     "text": [
      "Type n the first string: lp\n",
      "Type in the second string: op\n",
      "lpop\n",
      "\n",
      "\n",
      "\n"
     ]
    }
   ],
   "source": [
    "# get two strings from the user\n",
    "str1 = input(\"Type n the first string: \")\n",
    "str2 = input(\"Type in the second string: \")\n",
    "\n",
    "\n",
    "# call your function\n",
    "print(my_function(str1, str2))\n",
    "print(\"\\n\"*2)\n",
    "\n"
   ]
  },
  {
   "cell_type": "markdown",
   "metadata": {},
   "source": [
    "### Exercise 4 - Calling a function within a function\n",
    "\n",
    "Create a function for :\n",
    "\n",
    "    adding 2 numbers, \n",
    "    subtracting 2 numbers, \n",
    "    multiplying 2 numbers, \n",
    "    dividing 2 numbers.\n",
    "\n",
    "Create a function that computes BMI using above functions \n",
    "\n",
    "    BMI = ( Weight in Pounds / ( Height in inches x Height in inches ) ) x 703\n",
    "\n",
    "\n",
    "Then, get a weight and height from a user to compute user's BMI using your functions."
   ]
  },
  {
   "cell_type": "code",
   "execution_count": null,
   "metadata": {},
   "outputs": [],
   "source": [
    "# define a function to add two numbers\n",
    "def adding2(int(num1), int(num2)) :\n",
    "    num1 = 5\n",
    "    num2 = 6\n",
    "    return int(num1) + int(num2)"
   ]
  },
  {
   "cell_type": "code",
   "execution_count": null,
   "metadata": {},
   "outputs": [],
   "source": [
    "# define a function to subtract two numbers\n",
    "def subtracting2(int(num1), int(num2)) :\n",
    "    num1 = 5\n",
    "    num2 = 6\n",
    "    return int(num1) - int(num2)"
   ]
  },
  {
   "cell_type": "code",
   "execution_count": null,
   "metadata": {},
   "outputs": [],
   "source": [
    "# define a function to multiply two numbers\n",
    "def multiply2(int(num1), int(num2)) :\n",
    "    num1 = 5\n",
    "    num2 = 6\n",
    "    return int(num1) * int(num2)"
   ]
  },
  {
   "cell_type": "code",
   "execution_count": null,
   "metadata": {},
   "outputs": [],
   "source": [
    "# define a function to divide two numbers\n",
    "def dividing2(int(num1), int(num2)) :\n",
    "    num1 = 5\n",
    "    num2 = 6\n",
    "    return int(num1) // int(num2)"
   ]
  },
  {
   "cell_type": "code",
   "execution_count": null,
   "metadata": {},
   "outputs": [],
   "source": [
    "# define a function to calculate BMI\n",
    "#    don't forget to use your functions \n",
    "#    instead of using arithematic operators\n",
    "\n",
    "def bmi(weight, height):\n"
   ]
  },
  {
   "cell_type": "code",
   "execution_count": null,
   "metadata": {},
   "outputs": [],
   "source": [
    "# get a weight from the user\n",
    "\n",
    "\n",
    "# get a height from the user\n",
    "\n",
    "\n",
    "# compute BMI by calling your BMI function, and print out the result\n",
    "\n"
   ]
  },
  {
   "cell_type": "markdown",
   "metadata": {},
   "source": [
    "### Exercise 5\n",
    "Create a function that takes three numeric arguments and returns their average. Then, write code that gets three numbers from the user and calls your function to compute the average of those numbers."
   ]
  },
  {
   "cell_type": "code",
   "execution_count": null,
   "metadata": {},
   "outputs": [],
   "source": [
    "# define a function that takes three arguments and returns their average\n",
    "\n",
    "\n"
   ]
  },
  {
   "cell_type": "code",
   "execution_count": null,
   "metadata": {},
   "outputs": [],
   "source": [
    "# get three scores from a user \n",
    "\n",
    "\n",
    "\n",
    "\n",
    "# call your function to compute the average score\n",
    "\n",
    "\n",
    "# print the average score\n"
   ]
  },
  {
   "cell_type": "markdown",
   "metadata": {},
   "source": [
    "### Exercise 6\n",
    "Using your pseudocode for \"How much water runs off a roof in a rain storm?\" from Module 2 homework, define a Python function. Then, write a program to call your function. What code will you move to your function? Use Module 2 Exercise Answers.ipynb from Canvas, if needed, to help you plan."
   ]
  },
  {
   "cell_type": "code",
   "execution_count": null,
   "metadata": {},
   "outputs": [],
   "source": [
    "#Input: width of a roof in feet, length of a roof in feet, & rainfall in inches\n",
    "#Output: amount of runoff rain (on a roof) in gallons\n",
    "#Process:\n",
    "  formula: gallons = (((width x length) x 12) x rain ) / 231\n",
    "  \n",
    "#BEGIN\n",
    "  Get width in feet from the user\n",
    "  Get length in feet from the user\n",
    "  Get rain in inches from the user\n",
    "\n",
    "  Convert length to inches by multipying length by 12\n",
    "  Convert width to inches by multipying width by 12\n",
    "\n",
    "  Set cubic_inches to length in inches times width in inches times rain\n",
    "  Set gallons to cubic_inches divided by 231\n",
    "  Display gallons\n",
    "#END\n",
    "\n",
    "def roofrunoff as runoff() :\n",
    "    "
   ]
  }
 ],
 "metadata": {
  "kernelspec": {
   "display_name": "Python 3 (ipykernel)",
   "language": "python",
   "name": "python3"
  },
  "language_info": {
   "codemirror_mode": {
    "name": "ipython",
    "version": 3
   },
   "file_extension": ".py",
   "mimetype": "text/x-python",
   "name": "python",
   "nbconvert_exporter": "python",
   "pygments_lexer": "ipython3",
   "version": "3.10.9"
  }
 },
 "nbformat": 4,
 "nbformat_minor": 2
}
