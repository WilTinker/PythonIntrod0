{
 "cells": [
  {
   "cell_type": "code",
   "execution_count": 1,
   "id": "82c83b2d",
   "metadata": {},
   "outputs": [
    {
     "name": "stdout",
     "output_type": "stream",
     "text": [
      "One argument\n",
      "\n",
      "Argument 1 Argument 2\n",
      "\n",
      "Argument 1|Argument 2\n",
      "\n",
      "Argument 1 Argument 2???"
     ]
    }
   ],
   "source": [
    "print(\"One argument\")\n",
    "print()\n",
    "print(\"Argument 1\", \"Argument 2\")\n",
    "print()\n",
    "print(\"Argument 1\", \"Argument 2\", sep='|')\n",
    "print()\n",
    "print(\"Argument 1\", \"Argument 2\", end='???')"
   ]
  },
  {
   "cell_type": "code",
   "execution_count": 2,
   "id": "01094479",
   "metadata": {},
   "outputs": [
    {
     "name": "stdout",
     "output_type": "stream",
     "text": [
      "Argument 1*Argument 2!"
     ]
    }
   ],
   "source": [
    "print(\"Argument 1\", \"Argument 2\", sep='*', end='!')"
   ]
  },
  {
   "cell_type": "code",
   "execution_count": 3,
   "id": "b870877a",
   "metadata": {},
   "outputs": [
    {
     "name": "stdout",
     "output_type": "stream",
     "text": [
      "Argument 2&Argument 1!"
     ]
    }
   ],
   "source": [
    "print(\"Argument 2\", \"Argument 1\", end='!', sep='&')"
   ]
  },
  {
   "cell_type": "code",
   "execution_count": 4,
   "id": "4f035263",
   "metadata": {},
   "outputs": [
    {
     "name": "stdout",
     "output_type": "stream",
     "text": [
      "Enter the length of the rectangle: 20\n",
      "Enter the width of the rectangle: 10\n"
     ]
    },
    {
     "ename": "TypeError",
     "evalue": "can't multiply sequence by non-int of type 'str'",
     "output_type": "error",
     "traceback": [
      "\u001b[1;31m---------------------------------------------------------------------------\u001b[0m",
      "\u001b[1;31mTypeError\u001b[0m                                 Traceback (most recent call last)",
      "Input \u001b[1;32mIn [4]\u001b[0m, in \u001b[0;36m<cell line: 7>\u001b[1;34m()\u001b[0m\n\u001b[0;32m      5\u001b[0m width \u001b[38;5;241m=\u001b[39m \u001b[38;5;28minput\u001b[39m(\u001b[38;5;124m\"\u001b[39m\u001b[38;5;124mEnter the width of the rectangle: \u001b[39m\u001b[38;5;124m\"\u001b[39m)\n\u001b[0;32m      6\u001b[0m \u001b[38;5;66;03m# Calculate the area\u001b[39;00m\n\u001b[1;32m----> 7\u001b[0m area \u001b[38;5;241m=\u001b[39m \u001b[43mlength\u001b[49m\u001b[43m \u001b[49m\u001b[38;5;241;43m*\u001b[39;49m\u001b[43m \u001b[49m\u001b[43mwidth\u001b[49m\n\u001b[0;32m      8\u001b[0m \u001b[38;5;66;03m# Display the area to the user\u001b[39;00m\n\u001b[0;32m      9\u001b[0m \u001b[38;5;28mprint\u001b[39m(\u001b[38;5;124mf\u001b[39m\u001b[38;5;124m\"\u001b[39m\u001b[38;5;124mA rectangle with a length of \u001b[39m\u001b[38;5;132;01m{\u001b[39;00mlength\u001b[38;5;132;01m}\u001b[39;00m\u001b[38;5;124m\"\u001b[39m, end\u001b[38;5;241m=\u001b[39m\u001b[38;5;124m\"\u001b[39m\u001b[38;5;124m \u001b[39m\u001b[38;5;124m\"\u001b[39m)\n",
      "\u001b[1;31mTypeError\u001b[0m: can't multiply sequence by non-int of type 'str'"
     ]
    }
   ],
   "source": [
    "# Something Doesn't Work\n",
    "#\n",
    "# Get the length and width from the user\n",
    "length = input(\"Enter the length of the rectangle: \")\n",
    "width = input(\"Enter the width of the rectangle: \")\n",
    "# Calculate the area\n",
    "area = length * width\n",
    "# Display the area to the user\n",
    "print(f\"A rectangle with a length of {length}\", end=\" \")\n",
    "print(f\"and a width of {width} has an area of {area}.\")"
   ]
  },
  {
   "cell_type": "code",
   "execution_count": 5,
   "id": "74221325",
   "metadata": {},
   "outputs": [
    {
     "name": "stdout",
     "output_type": "stream",
     "text": [
      "Enter the length of the rectangle: 20\n",
      "Enter the width of the rectangle: 10\n",
      "A rectangle with a length of 20 and a width of 10 has an area of 200.\n"
     ]
    }
   ],
   "source": [
    "# Making It Work\n",
    "#\n",
    "# Get the length and width from the user\n",
    "length = input(\"Enter the length of the rectangle: \")\n",
    "length = int(length)\n",
    "width = int(input(\"Enter the width of the rectangle: \"))\n",
    "# Calculate the area\n",
    "area = length * width\n",
    "# Display the area to the user\n",
    "print(f\"A rectangle with a length of {length}\", end=\" \")\n",
    "print(f\"and a width of {width} has an area of {area}.\")"
   ]
  },
  {
   "cell_type": "code",
   "execution_count": 6,
   "id": "9541267c",
   "metadata": {
    "scrolled": true
   },
   "outputs": [
    {
     "name": "stdout",
     "output_type": "stream",
     "text": [
      "Enter the length of the rectangle: 20\n",
      "Enter the width of the rectangle: 10\n",
      "A rectangle with a length of 20 and a width of 10 has an area of 200\n"
     ]
    }
   ],
   "source": [
    "# Casting Integers to Strings\n",
    "#\n",
    "# Get the length and width from the user\n",
    "length = input(\"Enter the length of the rectangle: \")\n",
    "length = int(length)\n",
    "width = int(input(\"Enter the width of the rectangle: \"))\n",
    "# Calculate the area\n",
    "area = length * width\n",
    "# Create the area message\n",
    "area_message = \"A rectangle with a length of \" + str(length)\n",
    "area_message = area_message + \" and a width of \" + str(width)\n",
    "area_message = area_message + \" has an area of \" + str(area)\n",
    "# Display the area message\n",
    "print(area_message)"
   ]
  },
  {
   "cell_type": "code",
   "execution_count": 7,
   "id": "6ec3998a",
   "metadata": {},
   "outputs": [
    {
     "name": "stdout",
     "output_type": "stream",
     "text": [
      "Enter the length of the rectangle: 20.4\n",
      "Enter the width of the rectangle: 10.6\n",
      "A rectangle with a length of 20.4 and a width of 10.6 has an area of 216.24\n"
     ]
    }
   ],
   "source": [
    "# Using the round() function\n",
    "#\n",
    "# Get the length and width from the user\n",
    "length = input(\"Enter the length of the rectangle: \")\n",
    "length = float(length)\n",
    "width = float(input(\"Enter the width of the rectangle: \"))\n",
    "# Calculate the area\n",
    "area = length * width\n",
    "area = round(area, 2)\n",
    "# Create the area message\n",
    "area_message = \"A rectangle with a length of \" + str(length)\n",
    "area_message = area_message + \" and a width of \" + str(width)\n",
    "area_message = area_message + \" has an area of \" + str(area)\n",
    "# Display the area message\n",
    "print(area_message)"
   ]
  },
  {
   "cell_type": "code",
   "execution_count": 1,
   "id": "e25933b0",
   "metadata": {},
   "outputs": [
    {
     "name": "stdout",
     "output_type": "stream",
     "text": [
      "-195 -287\n"
     ]
    }
   ],
   "source": [
    "import random as rand\n",
    "#Define a function to return a random x or y coordinate\n",
    "def position_ball(low_limit, high_limit) :\n",
    "    position = rand.randint(low_limit, high_limit)\n",
    "    return position\n",
    "\n",
    "#Call the function and display the returned values\n",
    "x_pos = position_ball(-220, 220)\n",
    "y_pos = position_ball(-300, 300)\n",
    "print(x_pos, y_pos)"
   ]
  }
 ],
 "metadata": {
  "kernelspec": {
   "display_name": "Python 3 (ipykernel)",
   "language": "python",
   "name": "python3"
  },
  "language_info": {
   "codemirror_mode": {
    "name": "ipython",
    "version": 3
   },
   "file_extension": ".py",
   "mimetype": "text/x-python",
   "name": "python",
   "nbconvert_exporter": "python",
   "pygments_lexer": "ipython3",
   "version": "3.9.12"
  }
 },
 "nbformat": 4,
 "nbformat_minor": 5
}
