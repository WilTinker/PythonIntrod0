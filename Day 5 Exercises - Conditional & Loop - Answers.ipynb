{
 "cells": [
  {
   "cell_type": "markdown",
   "metadata": {},
   "source": [
    "# Exercise 1\n",
    "Make a program that evaluates the user's input. Prompt the user for a yes or no question. \n",
    "\n",
    "If the user answers yes, tell the user, they won 1 million dollars. \n",
    "If not, tell them that they need to go and wash the dishes. \n",
    "\n",
    "If they don't give one of those answers, tell them they must enter a correct answer and rerun the program.\n",
    "\n",
    "#### Challenge\n",
    "Now, make your program loop until the user wants to quit."
   ]
  },
  {
   "cell_type": "code",
   "execution_count": null,
   "metadata": {},
   "outputs": [],
   "source": [
    " \n",
    "answer=input(\"Did you wash the dishes? (type 'quit' to stop) \")\n",
    "\n",
    "while answer != \"quit\" :\n",
    "    if answer==\"no\":\n",
    "        print(\"You need to go and wash the dishes.\")\n",
    "    elif answer==\"yes\":\n",
    "        print(\"Congratulations! You just won 1 million dollars!\")\n",
    "    else:\n",
    "        print(\"You must enter either yes or no. Rerun the program.\")\n",
    "        \n",
    "    answer = input(\"Did you wash the dishes? (quit to stop)\") \n",
    "    \n",
    "print(\"Bye\")    \n"
   ]
  },
  {
   "cell_type": "code",
   "execution_count": null,
   "metadata": {},
   "outputs": [],
   "source": [
    "\n"
   ]
  },
  {
   "cell_type": "markdown",
   "metadata": {},
   "source": [
    "# Exercise 2\n",
    "Write a program to get two integers from the user. Then, determine the maximum, minimum, and average of those two numbers. Finally, print the result in a nice formatted string. "
   ]
  },
  {
   "cell_type": "code",
   "execution_count": null,
   "metadata": {},
   "outputs": [],
   "source": [
    "first = int(input(\"Enter a number: \"))\n",
    "second = int(input(\"Enter another number: \"))\n",
    "\n",
    "if first > second :\n",
    "    max_no = first\n",
    "    min_no = second\n",
    "else :    \n",
    "    max_no = second\n",
    "    min_no = first\n",
    "\n",
    "avg = (first + second) / 2\n",
    "\n",
    "print(f\"Maxium: {max_no} Minimum: {min_no} Average: {avg:.2f}\")"
   ]
  },
  {
   "cell_type": "markdown",
   "metadata": {},
   "source": [
    "# Exercise 3\n",
    "Write a program to get <b>three</b> integers from the user. Then, determine the maximum, minimum, and average of those <b>three</b> numbers. Finally, print the result in a nice formatted string."
   ]
  },
  {
   "cell_type": "code",
   "execution_count": null,
   "metadata": {},
   "outputs": [],
   "source": [
    "first = int(input(\"Enter a number: \"))\n",
    "second = int(input(\"Enter the second number: \"))\n",
    "third = int(input(\"Enter the third number: \"))\n",
    "\n",
    "if first > second :          # 3 > 2 or 3 > 1\n",
    "    if first > third :       # 3 > 1 or 3 > 2\n",
    "        max_no = first       # max = 3\n",
    "        if second > third :  \n",
    "            min_no = third   \n",
    "        else :\n",
    "            min_no = second  \n",
    "    else :                   \n",
    "        max_no = third\n",
    "        min_no = second\n",
    "        \n",
    "else :   \n",
    "    if second < third:     \n",
    "        max_no = third\n",
    "        min_no = first\n",
    "    else : \n",
    "        max_no = second \n",
    "        if first < third :   \n",
    "            min_no = first\n",
    "        else :\n",
    "            min_no = third\n",
    "\n",
    "avg = (first + second + third) / 3\n",
    "\n",
    "print(f\"Maxium: {max_no} Minimum: {min_no} Average: {avg:.2f}\")\n",
    "\n",
    "# Test data\n",
    "## 1 2 3\n",
    "## 1 3 2\n",
    "## 2 1 3\n",
    "## 2 3 1\n",
    "## 3 1 2\n",
    "## 3 2 1"
   ]
  },
  {
   "cell_type": "markdown",
   "metadata": {},
   "source": [
    "# Exercise 4\n",
    "Ask the user a  <b>love</b> or <b>hate</b> question. \n",
    "If the user answers <b>love</b>, print out <i>I love python</i> 10 times using the for-loop. If the user responds <b>hate</b>, print out <i>I hate python</i> 10 times using the while loop.\n",
    "\n",
    "If the user inputs anything else, ask the user,  <i>Why are you being a bad user?</i>"
   ]
  },
  {
   "cell_type": "code",
   "execution_count": null,
   "metadata": {},
   "outputs": [],
   "source": [
    "\n",
    "ans = input(\"Do you love or hate?\")\n",
    "if ans == \"love\":\n",
    "    for i in range(10):\n",
    "        print(\"I love python\")\n",
    "    \n",
    "elif ans == \"hate\":\n",
    "    i = 1\n",
    "    while i<= 10:\n",
    "        print(\"I hate python\")\n",
    "        i = i + 1\n",
    "else:\n",
    "    print(\"Why are you being a bad user?\")    \n",
    "\n",
    "\n"
   ]
  },
  {
   "cell_type": "code",
   "execution_count": null,
   "metadata": {},
   "outputs": [],
   "source": []
  },
  {
   "cell_type": "markdown",
   "metadata": {},
   "source": [
    "# Exercise 5\n",
    "Create a function for add, subtract, multiply, and divide and make a program \n",
    "that can choose between the four options and then takes in two numbers and gets the solution\n",
    "\n",
    "### Challenge\n",
    "Make the whole process loop until they enter in q during the option selection part."
   ]
  },
  {
   "cell_type": "code",
   "execution_count": null,
   "metadata": {},
   "outputs": [],
   "source": [
    "def add(arg1, arg2):\n",
    "    return arg1 + arg2\n",
    "\n",
    "def subtract(arg1, arg2) :\n",
    "    return arg1 - arg2\n",
    "\n",
    "def multiply(arg1, arg2) :\n",
    "    return arg1 * arg2\n",
    "\n",
    "def divide(arg1, arg2) :\n",
    "    return arg1 / arg2\n",
    "\n",
    "def operation(op, num1, num2) :\n",
    "    if op == \"+\":\n",
    "        print(f\"{num1} {op} {num2} = {add(num1, num2)}\")\n",
    "    elif op == \"-\":\n",
    "        print(f\"{num1} {op} {num2} = {subtract(num1,num2)}\")\n",
    "    elif op == \"*\":\n",
    "        print(f\"{num1} {op} {num2} = {multiply(num1,num2)}\")\n",
    "    elif op == \"/\":\n",
    "        print(f\"{num1} {op} {num2} = {divide(num1,num2)}\")\n",
    "    else:\n",
    "        print(\"Invalid operator, please try again.\")\n",
    "        \n",
    "    return    \n",
    "\n",
    "option = \"y\"\n",
    "while option == \"y\" :\n",
    "    print(f\"\\nSelect an operation:\\nAdd(+)\\nSubtract(-)\\nMultiply(*)\\nDivide(/)\\n\")\n",
    "    op = input(\"Enter +, -, *, or /:\")\n",
    "    first = int(input(\"Enter first number:\"))\n",
    "    second = int(input(\"Enter second number:\"))\n",
    "    operation(op, first, second)\n",
    "    option = input(\"\\nWould you like to continue (y/n)? \")\n",
    "\n",
    "print(\"Bye\")    "
   ]
  },
  {
   "cell_type": "code",
   "execution_count": null,
   "metadata": {},
   "outputs": [],
   "source": []
  },
  {
   "cell_type": "code",
   "execution_count": null,
   "metadata": {},
   "outputs": [],
   "source": []
  },
  {
   "cell_type": "code",
   "execution_count": null,
   "metadata": {},
   "outputs": [],
   "source": []
  }
 ],
 "metadata": {
  "kernelspec": {
   "display_name": "Python 3 (ipykernel)",
   "language": "python",
   "name": "python3"
  },
  "language_info": {
   "codemirror_mode": {
    "name": "ipython",
    "version": 3
   },
   "file_extension": ".py",
   "mimetype": "text/x-python",
   "name": "python",
   "nbconvert_exporter": "python",
   "pygments_lexer": "ipython3",
   "version": "3.10.9"
  }
 },
 "nbformat": 4,
 "nbformat_minor": 2
}
