{
 "cells": [
  {
   "cell_type": "markdown",
   "metadata": {},
   "source": [
    "### Exercise 1: \n",
    "Ask for a birthday, a favorite gift, and their dream job. Then, display summerized information in a formated string."
   ]
  },
  {
   "cell_type": "code",
   "execution_count": null,
   "metadata": {},
   "outputs": [],
   "source": [
    "# ask for a birthday\n",
    "birthday = str(input(\"Please enter your birthday (month & date) :\"))\n",
    "\n",
    "# ask for a favorite gift\n",
    "gift = input(\"What gift would you like for your birthday? :\")\n",
    "\n",
    "# ask for the dream job\n",
    "dream_job = str(input(\"What is your dream job? :\"))\n",
    "\n",
    "\n",
    "# display the information using a formatted string\n",
    "print(f\"You will get {gift} for your birthday on {birthday}.\\n I cannot promise you'll get {dream_job} position, however.\")"
   ]
  },
  {
   "cell_type": "markdown",
   "metadata": {},
   "source": [
    "### Exercise 2: \n",
    "Ask for a favorite song, favorite movie, and favorite book.\n",
    "Use print() statements to ask the questions. Make sure the user types the answer on the same line as the question.\n",
    "\n",
    "Display summerized string."
   ]
  },
  {
   "cell_type": "code",
   "execution_count": 30,
   "metadata": {},
   "outputs": [
    {
     "name": "stdout",
     "output_type": "stream",
     "text": [
      "What is your favorite song? "
     ]
    },
    {
     "name": "stdin",
     "output_type": "stream",
     "text": [
      " fds\n"
     ]
    },
    {
     "name": "stdout",
     "output_type": "stream",
     "text": [
      "What is your favorite movie? "
     ]
    },
    {
     "name": "stdin",
     "output_type": "stream",
     "text": [
      " dfsfs\n"
     ]
    },
    {
     "name": "stdout",
     "output_type": "stream",
     "text": [
      "What is your favorite book? "
     ]
    },
    {
     "name": "stdin",
     "output_type": "stream",
     "text": [
      " fdsfsdfsd\n"
     ]
    }
   ],
   "source": [
    "# ask for a favorite song using a print statement\n",
    "print(\"What is your favorite song?\", end=' ')\n",
    "song = input()\n",
    "\n",
    "# ask for a favorite movie using a print statement\n",
    "print(\"What is your favorite movie?\", end=' ')\n",
    "movie = input()\n",
    "\n",
    "# ask for a favorite book using a print statement\n",
    "print(\"What is your favorite book?\", end=' ')\n",
    "book = input() \n",
    "# summerize\n",
    "\n"
   ]
  },
  {
   "cell_type": "markdown",
   "metadata": {},
   "source": [
    "### Exercise 3\n",
    "Create a function that concatonates two strings and prints the new sentence out. Then, ask a user to type in two strings and print out the concatonation by calling your function.\n"
   ]
  },
  {
   "cell_type": "code",
   "execution_count": 63,
   "metadata": {},
   "outputs": [],
   "source": [
    "# create a function\n",
    "def my_function() :\n",
    "    print(str1 + str2)\n"
   ]
  },
  {
   "cell_type": "code",
   "execution_count": 65,
   "metadata": {},
   "outputs": [
    {
     "name": "stdin",
     "output_type": "stream",
     "text": [
      "Enter any phrase:  yo\n",
      "Enter a complimentary word or phrase:  ho\n"
     ]
    },
    {
     "name": "stdout",
     "output_type": "stream",
     "text": [
      "yoho\n"
     ]
    }
   ],
   "source": [
    "# get two strings from the user\n",
    "str1 = input(\"Enter any phrase: \")\n",
    "str2 = input(\"Enter a complimentary word or phrase: \")\n",
    "\n",
    "# call your function\n",
    "my_function()\n"
   ]
  },
  {
   "cell_type": "markdown",
   "metadata": {},
   "source": [
    "### Exercise 4 - Calling a function within a function\n",
    "\n",
    "Create a function for :\n",
    "\n",
    "    adding 2 numbers, \n",
    "    subtracting 2 numbers, \n",
    "    multiplying 2 numbers, \n",
    "    dividing 2 numbers.\n",
    "\n",
    "Create a function that computes BMI using above functions \n",
    "\n",
    "    BMI = ( Weight in Pounds / ( Height in inches x Height in inches ) ) x 703\n",
    "\n",
    "\n",
    "Then, get a weight and height from a user to compute user's BMI using your functions."
   ]
  },
  {
   "cell_type": "code",
   "execution_count": 68,
   "metadata": {},
   "outputs": [],
   "source": [
    "# define a function to add two numbers\n",
    "def adding2(num1, num2) :\n",
    "    print(num1 + num2)\n",
    "    "
   ]
  },
  {
   "cell_type": "code",
   "execution_count": null,
   "metadata": {},
   "outputs": [],
   "source": [
    "# define a function to subtract two numbers\n",
    "def subtr2(num1, num2) :\n",
    "    print(num1 - num2)"
   ]
  },
  {
   "cell_type": "code",
   "execution_count": null,
   "metadata": {},
   "outputs": [],
   "source": [
    "# define a function to multiply two numbers\n",
    "def mult2(num1, num2) :\n",
    "    print(num2 * num2)"
   ]
  },
  {
   "cell_type": "code",
   "execution_count": null,
   "metadata": {},
   "outputs": [],
   "source": [
    "# define a function to divide two numbers\n",
    "def divide2(num1, num2) :\n",
    "    print(num2/num1)"
   ]
  },
  {
   "cell_type": "code",
   "execution_count": 97,
   "metadata": {},
   "outputs": [],
   "source": [
    "# define a function to calculate BMI\n",
    "#    don't forget to use your functions \n",
    "#    instead of using arithematic operators\n",
    "\n",
    "def calcBMI() :\n",
    "    W_multiple = weight * 703\n",
    "    H_multiple = height * height \n",
    "    print(round(W_multiple/H_multiple),2)\n",
    "    "
   ]
  },
  {
   "cell_type": "code",
   "execution_count": 99,
   "metadata": {},
   "outputs": [
    {
     "name": "stdin",
     "output_type": "stream",
     "text": [
      "Please enter your weight in lbs:  185\n",
      "Please enter your height in inches:  72\n"
     ]
    },
    {
     "name": "stdout",
     "output_type": "stream",
     "text": [
      "25 2\n"
     ]
    }
   ],
   "source": [
    "# get a weight from the user\n",
    "weight = int(input(\"Please enter your weight in lbs: \"))\n",
    "\n",
    "# get a height from the user\n",
    "height = int(input(\"Please enter your height in inches: \"))\n",
    "\n",
    "# compute BMI by calling your BMI function, and print out the result\n",
    "calcBMI()\n"
   ]
  },
  {
   "cell_type": "markdown",
   "metadata": {},
   "source": [
    "### Exercise 5\n",
    "Create a function that takes three numeric arguments and returns their average. Then, write code that gets three numbers from the user and calls your function to compute the average of those numbers."
   ]
  },
  {
   "cell_type": "code",
   "execution_count": 103,
   "metadata": {},
   "outputs": [],
   "source": [
    "# define a function that takes three arguments and returns their average\n",
    "def average3(score1, score2, score3) :\n",
    "    sum = score1+score2+score3\n",
    "    average = (sum/3)\n",
    "    return average"
   ]
  },
  {
   "cell_type": "code",
   "execution_count": 111,
   "metadata": {},
   "outputs": [
    {
     "name": "stdin",
     "output_type": "stream",
     "text": [
      "Enter a score:  100\n",
      "Enter a second score:  100\n",
      "Enter a score:  95\n"
     ]
    },
    {
     "name": "stdout",
     "output_type": "stream",
     "text": [
      "98.33333333333333\n"
     ]
    }
   ],
   "source": [
    "# get three scores from a user \n",
    "score1 = float(input(\"Enter a score: \"))\n",
    "score2 = float(input(\"Enter a second score: \"))\n",
    "score3 = float(input(\"Enter a score: \"))\n",
    "\n",
    "# call your function to compute the average score\n",
    "average3(score1, score2, score3)\n",
    "\n",
    "# print the average score\n"
   ]
  },
  {
   "cell_type": "markdown",
   "metadata": {},
   "source": [
    "### Exercise 6\n",
    "Using your pseudocode for \"How much water runs off a roof in a rain storm?\" from Module 2 homework, define a Python function. Then, write a program to call your function. What code will you move to your function? Use Module 2 Exercise Answers.ipynb from Canvas, if needed, to help you plan."
   ]
  },
  {
   "cell_type": "raw",
   "metadata": {},
   "source": [
    "#BEGIN\n",
    "    Area = length * width\n",
    "    Length = {L}\n",
    "    Width = {W}\n",
    "    Prompt user to enter length in feet {L}\n",
    "    Prompt user to enter width in feet{W}\n",
    "    Prompt user to enter inches of rainfall {IRF} in a given storm\n",
    "    \n",
    "    constant = 12\n",
    "  \n",
    "    #Convert Length and Width to inches\n",
    "    length [in inches] = Length * constant\n",
    "    width [in inches] = Width * constant\n",
    "    \n",
    "    Cubic_inches [that will run off a roof in a given rain storm] = Area * inches_of_rainfall\n",
    "    Runoff [Gallons of runoff] = Cubic_inches/231\n",
    "    Print(Runoff)\n",
    " END"
   ]
  },
  {
   "cell_type": "code",
   "execution_count": 117,
   "metadata": {},
   "outputs": [
    {
     "name": "stdin",
     "output_type": "stream",
     "text": [
      "Enter the width of the roof in feet:  50\n",
      "Enter the length of the roof in feet:  10\n",
      "Enter the amount of rainfall in inches:  2\n"
     ]
    },
    {
     "name": "stdout",
     "output_type": "stream",
     "text": [
      "Roof size:   50ft by 10 ft\n",
      "Rain amount: 2 inches\n",
      "The amount of rain runoff from roof: 623.38 gallons\n"
     ]
    }
   ],
   "source": [
    "def compute_runoffGlns(width, length, rainfall) :\n",
    "    width_inches = width * 12\n",
    "    length_inches = length * 12\n",
    "    cubic_inches = width_inches * length_inches * rainfall\n",
    "    runoff_gln = cubic_inches / 231\n",
    "    return runoff_gln\n",
    "\n",
    "width = float(input(\"Enter the width of the roof in feet: \"))\n",
    "length = float(input(\"Enter the length of the roof in feet: \"))\n",
    "rainfall = float(input(\"Enter the amount of rainfall in inches: \"))\n",
    "gallons = compute_runoffGlns(width, length, rainfall)\n",
    "\n",
    "print(f\"Roof size:   {width:.0f}ft by {length:.0f} ft\")\n",
    "print(f\"Rain amount: {rainfall:.0f} inches\")\n",
    "print(f\"The amount of rain runoff from roof: {gallons:.2f} gallons\")    "
   ]
  },
  {
   "cell_type": "code",
   "execution_count": null,
   "metadata": {},
   "outputs": [],
   "source": []
  }
 ],
 "metadata": {
  "kernelspec": {
   "display_name": "Python 3 (ipykernel)",
   "language": "python",
   "name": "python3"
  },
  "language_info": {
   "codemirror_mode": {
    "name": "ipython",
    "version": 3
   },
   "file_extension": ".py",
   "mimetype": "text/x-python",
   "name": "python",
   "nbconvert_exporter": "python",
   "pygments_lexer": "ipython3",
   "version": "3.12.4"
  }
 },
 "nbformat": 4,
 "nbformat_minor": 4
}
