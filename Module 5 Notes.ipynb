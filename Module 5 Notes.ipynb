{
 "cells": [
  {
   "cell_type": "markdown",
   "metadata": {},
   "source": [
    "### Boolean Operators\n",
    "Booleans are either True or False.  Sometimes, it is noted as 1 for true and 0 for false (thus sometimes called a binary operator).\n",
    "\n",
    "The ***boolean operators*** **and**, **or** and **not** are also referred to as *logical operators*.\n",
    "**and** and **or** operators need two operands while **not** only needs one operand to evaluate.\n",
    "\n",
    "Boolean **and** operator returns **true** if both operands return true."
   ]
  },
  {
   "attachments": {
    "image.png": {
     "image/png": "[encoded data removed]"
    }
   },
   "cell_type": "markdown",
   "metadata": {},
   "source": [
    "\n",
    "![image.png](attachment:image.png)\n"
   ]
  },
  {
   "cell_type": "markdown",
   "metadata": {},
   "source": [
    "Boolean **or** operator returns **true** if any one operand is true "
   ]
  },
  {
   "attachments": {
    "image.png": {
     "image/png": "[encoded data removed]"
    }
   },
   "cell_type": "markdown",
   "metadata": {},
   "source": [
    "\n",
    "![image.png](attachment:image.png)\n"
   ]
  },
  {
   "cell_type": "code",
   "execution_count": null,
   "metadata": {},
   "outputs": [],
   "source": [
    "# Let's see\n",
    "a = True\n",
    "b = False\n",
    "print(f\"{a} and {b} is {a and b}\")\n",
    "print(f\"{a} or {b} is {a or b}\")\n",
    "print(f\"not {a} is {not a}\")\n",
    "print(\"=\" * 20)\n",
    "a = 1\n",
    "b = 0\n",
    "print(f\"{a} and {b} is {a and b}\")\n",
    "print(f\"{a} or {b} is {a or b}\")\n",
    "print(f\"not {a} is {not a}\")\n"
   ]
  },
  {
   "cell_type": "markdown",
   "metadata": {},
   "source": [
    "#### Comparison operators are\n",
    " \n",
    "##### - == (equal to)\n",
    "##### - != (not equal to)\n",
    "##### - >  (greater than)\n",
    "##### - >= (greater than or equal to)\n",
    "##### - <  (less than)\n",
    "##### - <= (less than or equal to)\n",
    " \n",
    "Each comparison operator will return a boolean value."
   ]
  },
  {
   "cell_type": "code",
   "execution_count": null,
   "metadata": {},
   "outputs": [],
   "source": [
    "# Try this\n",
    "a = 13\n",
    "b = 5\n",
    "print(f\"{a} > {b} = {a > b}\")"
   ]
  },
  {
   "cell_type": "code",
   "execution_count": null,
   "metadata": {},
   "outputs": [],
   "source": [
    "# And this\n",
    "a = 3\n",
    "b = 5\n",
    "print(f\"({a} > {b}) and (9 == 9) is {(a > b) and  (9 == 9)}\")\n",
    "print(f\"({a} > {b}) or (9 == 9) is {(a > b) or  (9 == 9)}\")"
   ]
  },
  {
   "cell_type": "markdown",
   "metadata": {},
   "source": [
    "### Conditional Statements: \n",
    "#### if-statement\n",
    "A conditional statement is used when you want to execute a block of code only if a certain condition is satisfied.\n",
    "A good thing to think about when using if statements is to think of a decision tree.\n",
    "\n",
    "***syntax:***\n",
    "\n",
    "**if** *condition* **:**\n",
    "\n",
    "    statement(s)\n",
    "    \n",
    "\n",
    "where it will execute *statement(s)* only when *condition* is true. \n",
    "\n",
    "As similar to defining a function, the body of **if** statment is ***indented 4 spaces***. The first unindented line marks the end of the *if* statement.\n",
    "\n",
    "In python, any non-zero values are eveluated as *True*.  None and 0 are interpreted as *False*\n"
   ]
  },
  {
   "cell_type": "code",
   "execution_count": null,
   "metadata": {},
   "outputs": [],
   "source": [
    "#What am I doing below? \n",
    "#Comment it out for yourself to help you understand each step\n",
    "\n",
    "people = 20\n",
    "cats = 30\n",
    "dogs = 15\n",
    "\n",
    "# What boolean value gets returned below? (comment above each line if it returns true or false)\n",
    "# Here, I'll give you this one:\n",
    "# people is a variable with the value 20\n",
    "# cats is a variable with the value 30\n",
    "# the statement in plain English says \"If people is less then cats then move to the next line and do what I say\"\n",
    "# So \"is people less than cats?\" \n",
    "# Well, let check... First, we substitute and now we have \"is 20 less than 30 ?\"\n",
    "# The answer is yes so that means it's TRUE\n",
    "# Therefore it will go into the if statement and do what is inside\n",
    "# It will print too many cats! The world is doomed!\n",
    "\n",
    "if people < cats:\n",
    "    print(\"Too many cats! The world is doomed!\")\n"
   ]
  },
  {
   "cell_type": "code",
   "execution_count": null,
   "metadata": {},
   "outputs": [],
   "source": [
    "# Now you try! Add comments in plain English\n",
    "if people > cats:\n",
    "    print(\"Not many cats! The world is saved!\")\n",
    "    \n",
    "# if 20 > 30 then\n",
    "# print(\"Not many cats! The world is saved!\")\n",
    "# but 20 is not greater than 30 \n",
    "# so print statement will not be executed"
   ]
  },
  {
   "cell_type": "code",
   "execution_count": null,
   "metadata": {},
   "outputs": [],
   "source": [
    "# What about this one? Add comments in plain English\n",
    "if people < dogs:\n",
    "    print(\"The world is drooled on!\")"
   ]
  },
  {
   "cell_type": "code",
   "execution_count": null,
   "metadata": {},
   "outputs": [],
   "source": [
    "# And this one? Add comments in plain English\n",
    "if people > dogs:\n",
    "    print(\"The world is dry!\")"
   ]
  },
  {
   "cell_type": "code",
   "execution_count": null,
   "metadata": {},
   "outputs": [],
   "source": [
    "#This is a shorthand way of adding a number to one's self\n",
    "#long version would be dogs = dogs + 5\n",
    "dogs += 5\n",
    "# dogs = dogs + 5\n",
    "# dogs -= 4   -> dogs = dogs - 4\n",
    "\n",
    "\n",
    "\n",
    "if people >= dogs:\n",
    "    print(\"People are greater than or equal to dogs.\")\n",
    "\n",
    "if people <= dogs:\n",
    "    print(\"People are less than or equal to dogs.\")\n",
    "\n",
    "\n",
    "if people == dogs:\n",
    "    print(\"People are dogs.\")\n",
    "    \n",
    "print(dogs)\n",
    "print(people)\n",
    "    \n",
    "# Now that you finished, go back and see what will be printed\n",
    "# check if you got it right when you run the cell"
   ]
  },
  {
   "cell_type": "markdown",
   "metadata": {},
   "source": [
    "### More on Conditional Statements: \n",
    "#### elif and else statement\n",
    "Well, now we know about **if** but what if I want a condition dependent on another condition so a check within a check?\n",
    "Then we use **elif**s and **else** to make sure everything is taken care of. \n",
    "\n",
    "***syntax:***\n",
    "\n",
    "**if** *condition1* **:**\n",
    "\n",
    "    A-statement(s)\n",
    "\n",
    "**elif** *condition2* **:** # where *elif means else if*\n",
    "\n",
    "    B-statement(s)\n",
    "    \n",
    "**else :**\n",
    "\n",
    "    C-statement(s)\n",
    "    \n",
    "where it will execute *A-statement(s)* only when *condition1* is true.\n",
    "If *condition1* is not true then it will check if *condition2* is true.\n",
    "*B-statement(s)* will be executed when *condition2* is true.\n",
    "When both *condition1* and *condition2* fails then *C-statement(s)* will be executed.\n",
    "\n",
    "So it will only be checked if the previous if or else if statement was false.\n",
    "An else statement is to handle anything else outside of the statements that you checked from above.\n",
    "So it's like a last resort or if all else fails then do this\n",
    "Look at if/elif - they have conditions but else does not!\n",
    "\n",
    "*Remember indentation right after your colon."
   ]
  },
  {
   "cell_type": "code",
   "execution_count": null,
   "metadata": {},
   "outputs": [],
   "source": [
    "#assigning some variable with numbers\n",
    "people = 30\n",
    "cars = 40\n",
    "trucks = 15\n",
    "\n",
    "#now do the same as before! And print the boolean value above\n",
    "\n",
    "if cars > people:\n",
    "    print(\"We should take the cars.\")\n",
    "elif cars < people:\n",
    "    print(\"We should not take the cars.\")\n",
    "else:\n",
    "    print(\"We can't decide.\")\n",
    "\n"
   ]
  },
  {
   "cell_type": "code",
   "execution_count": null,
   "metadata": {},
   "outputs": [],
   "source": [
    "#Before running the cell, check which ones will print then\n",
    "#check it against the cell once you run it\n",
    "\n",
    "if trucks > cars:\n",
    "    print(\"That's too many trucks.\")\n",
    "elif trucks < cars:\n",
    "    print(\"Maybe we could take the trucks.\")\n",
    "else:\n",
    "    print(\"We still can't decide.\")\n"
   ]
  },
  {
   "cell_type": "code",
   "execution_count": null,
   "metadata": {},
   "outputs": [],
   "source": [
    "#As before, check which ones will print then\n",
    "#check it against the cell once you run it\n",
    "\n",
    "if people > trucks:\n",
    "    print(\"Alright, let's just take the trucks.\")\n",
    "else:\n",
    "    print(\"Fine, let's stay home then.\")\n",
    "    "
   ]
  },
  {
   "cell_type": "code",
   "execution_count": null,
   "metadata": {},
   "outputs": [],
   "source": [
    "# Review: using the last two days' learning to make a running program\n",
    "\n",
    "#Lets create some functions\n",
    "def func1():\n",
    "    print(\"1 2 3 ...\")\n",
    "    \n",
    "def func2(arg1):\n",
    "    return arg1**3\n",
    "\n",
    "def func3(arg1, arg2, arg3):\n",
    "    x = func2(arg1) * arg2 - arg3\n",
    "    return x\n",
    "\n"
   ]
  },
  {
   "cell_type": "code",
   "execution_count": null,
   "metadata": {},
   "outputs": [],
   "source": [
    "#Lets ask a question and get an answer then store it in a variable\n",
    "answer = input(\"Well, which function do you want to use? (1 or 2 or 3) > \")\n",
    "\n"
   ]
  },
  {
   "cell_type": "code",
   "execution_count": null,
   "metadata": {},
   "outputs": [],
   "source": [
    "#inputs come in as strings always so if I want to use this number I must parse/convert/cast it into a different data type\n",
    "#I change answer to a data type of int, now if I enter something not a number from before my program will crash\n",
    "#because I haven't handled for a bad user \n",
    "\n",
    "answer = int(answer)\n",
    "#if you want to convert something like a number to a string you would do str()\n",
    "#if you wanted to test it as a string then below in the if statement you'd have to change 1 to \"1\" or '1'\n",
    "\n"
   ]
  },
  {
   "cell_type": "code",
   "execution_count": null,
   "metadata": {},
   "outputs": [],
   "source": [
    "# Now lets make a decision based on that answer\n",
    "if answer == 1:\n",
    "    func1()\n",
    "elif answer == 2:\n",
    "    #remember function 2 needs an argument so lets ask another question\n",
    "    x = input(\"Please give me a number > \")\n",
    "    #Why do I print this? and not the function before?\n",
    "    print(func2(x))\n",
    "elif answer == 3:\n",
    "    #function 3 has 3 args\n",
    "    num1 = input(\"Give me one number >\")\n",
    "    num2 = input(\"Give me a second number >\")\n",
    "    num3 = input(\"Give me a third number >\")\n",
    "    print(func3(num1,num2,num3))\n",
    "else :\n",
    "    print(\"Please give me a correct number next time. BYE...\")\n",
    "    \n",
    "# Do you see any error?  Did you check all cases???"
   ]
  },
  {
   "cell_type": "markdown",
   "metadata": {},
   "source": [
    "### Loops\n",
    "Loops are super important. They rule the world becasue if you have to do something 100 times, do you actually want to say and write it out 100 times?\n",
    "**NO ABSOLUTELY NOT!** So we have *loops or repetition* to continously do code up to a certain limit or condition.\n",
    "\n",
    "#Loops always start with a for or while.\n",
    "#We have a for loop that loops for certain amount of times and \n",
    "#We have a while loop that loops for as long as a condition is true\n",
    "\n",
    "#### - for loop\n",
    "***for-loop*** is used when a block of statements needs to be executed ***fixed number of times***\n",
    "\n",
    "\n",
    "***syntax:***\n",
    "\n",
    "**for** *variable* **in** *some group* **:**\n",
    "\n",
    "    statement(s)\n",
    " \n"
   ]
  },
  {
   "cell_type": "code",
   "execution_count": null,
   "metadata": {},
   "outputs": [],
   "source": [
    "# for-loop example\n",
    "for i in range(5,11):\n",
    "    print(i)   \n",
    "\n",
    "print(i)    \n",
    "# What is going on?"
   ]
  },
  {
   "cell_type": "code",
   "execution_count": null,
   "metadata": {},
   "outputs": [],
   "source": [
    "# you are using i as a counter and printing the starting number up until but not to the last number\n",
    "for i in range (1,6):\n",
    "    print(i)\n",
    "    print(\"=\" * 20)\n",
    "    \n",
    "for i in range (4,8):\n",
    "    print(i)"
   ]
  },
  {
   "cell_type": "markdown",
   "metadata": {},
   "source": [
    "#### - while loop\n",
    "***while-loop*** executes a block of statements ***while a condition is true*** so inside a block of statements, somehow the condition has to change. Otherwise, you have an *infinite loop*.\n",
    "\n",
    "\n",
    "***syntax:***\n",
    "\n",
    "**while** *condition* **:**\n",
    "\n",
    "    statement(s)\n",
    " \n"
   ]
  },
  {
   "cell_type": "code",
   "execution_count": null,
   "metadata": {},
   "outputs": [],
   "source": [
    "# To use a while loop, lets start by making a counter\n",
    "count = 1\n",
    "\n",
    "#so now we test a condition. What is count at the beginning?\n",
    "#how many times will this run?\n",
    "#when does the loop stop?\n",
    "while count <= 5:\n",
    "    print(count)\n",
    "    #why do I have this in here?\n",
    "    count += 1\n",
    "    \n",
    "print(\"Out of the while loop\")\n",
    "\n"
   ]
  },
  {
   "cell_type": "code",
   "execution_count": null,
   "metadata": {},
   "outputs": [],
   "source": [
    "# Let's write functions with loops now\n",
    "# The first exercise is to do modulus % without using modulus!\n",
    "# Wait! What is modulus % do again?\n",
    "print(f\"6 % 3 = {6%3}\")\n",
    "print(f\"6 % 4 = {6%4}\")"
   ]
  },
  {
   "cell_type": "code",
   "execution_count": null,
   "metadata": {},
   "outputs": [],
   "source": [
    "#lets try to do modulus % without using modulus!\n",
    "#What do I need?\n",
    "# IPO... IPO... IPO...\n",
    "# input: two numbers\n",
    "# I need to think about the amount of arguments I will need. Well I'm just subtracting one number from another\n",
    "# So I need two arguments\n",
    "\n",
    "# output: \n",
    "# I am finding a modulus of two numbers so my output is first number % second number (without using modulus %)\n",
    "\n",
    "# process:???\n",
    "# Well I first need to think which kind of loop do I want to use?\n",
    "# How do I determine that? Well do I have an exact amount times that this will occur always?\n",
    "# If yes then I'll use a for loop, but if not then I should use a condition to check if I still need to do a loop or not\n",
    "# I don't know how many times I'll need to subtract the second number from the first number so I will use a while loop\n",
    "\n",
    "# Next I have to think what is my condition going to be?\n",
    "# When will I know that I have to stop the program?\n",
    "# Ah the solution is I have to stop it when I reach anything that becomes negative\n",
    "\n",
    "# Ok, now I am ready to write a function.\n",
    "\n",
    "\n",
    "def modulus_hard(arg1, arg2):\n",
    "    #to check if you subtract number 2 from number 1 and we are still greater than zero then I will keep going\n",
    "    while (arg1 - arg2) > 0:\n",
    "        #take out number 2 from number 1 and reassign new value to arg1\n",
    "        arg1 -= arg2\n",
    "    #once we finish we have the remainderas arg1 so we return it\n",
    "    return arg1\n",
    "\n",
    "#did I call the function?\n",
    "\n",
    "\n",
    "#now I did\n",
    "print(modulus_hard(100,11))\n",
    "\n",
    "\n",
    "# but is it giving a right answer?\n",
    "# check with known data\n",
    "print(f\"6%3={6%3}\")\n",
    "print(modulus_hard(6,3))\n",
    "print(f\"6%4={6%4}\")\n",
    "print(modulus_hard(6,4))\n",
    "\n",
    "\n",
    "\n",
    "# now fix it"
   ]
  },
  {
   "cell_type": "code",
   "execution_count": null,
   "metadata": {},
   "outputs": [],
   "source": [
    "# Let's check our function\n",
    "print(100 % 11)"
   ]
  },
  {
   "cell_type": "code",
   "execution_count": null,
   "metadata": {},
   "outputs": [],
   "source": []
  }
 ],
 "metadata": {
  "kernelspec": {
   "display_name": "Python 3 (ipykernel)",
   "language": "python",
   "name": "python3"
  },
  "language_info": {
   "codemirror_mode": {
    "name": "ipython",
    "version": 3
   },
   "file_extension": ".py",
   "mimetype": "text/x-python",
   "name": "python",
   "nbconvert_exporter": "python",
   "pygments_lexer": "ipython3",
   "version": "3.10.9"
  }
 },
 "nbformat": 4,
 "nbformat_minor": 2
}
